{
 "cells": [
  {
   "cell_type": "markdown",
   "metadata": {},
   "source": [
    "# 1. Ingesta de librerías"
   ]
  },
  {
   "cell_type": "code",
   "execution_count": 336,
   "metadata": {},
   "outputs": [],
   "source": [
    "import pandas as pd\n",
    "import matplotlib.pyplot as plt\n",
    "import seaborn as sns\n",
    "import numpy as np\n",
    "from sklearn.impute import KNNImputer\n"
   ]
  },
  {
   "cell_type": "markdown",
   "metadata": {},
   "source": [
    "# 2. Extracción"
   ]
  },
  {
   "cell_type": "code",
   "execution_count": 337,
   "metadata": {},
   "outputs": [],
   "source": [
    "df = pd.read_csv('timeseries_haul_loading_data.csv')"
   ]
  },
  {
   "cell_type": "markdown",
   "metadata": {},
   "source": [
    "# 3. Analisis previo de calidad"
   ]
  },
  {
   "cell_type": "code",
   "execution_count": 338,
   "metadata": {},
   "outputs": [
    {
     "data": {
      "text/html": [
       "<div>\n",
       "<style scoped>\n",
       "    .dataframe tbody tr th:only-of-type {\n",
       "        vertical-align: middle;\n",
       "    }\n",
       "\n",
       "    .dataframe tbody tr th {\n",
       "        vertical-align: top;\n",
       "    }\n",
       "\n",
       "    .dataframe thead th {\n",
       "        text-align: right;\n",
       "    }\n",
       "</style>\n",
       "<table border=\"1\" class=\"dataframe\">\n",
       "  <thead>\n",
       "    <tr style=\"text-align: right;\">\n",
       "      <th></th>\n",
       "      <th>truck</th>\n",
       "      <th>loader</th>\n",
       "      <th>ton</th>\n",
       "      <th>n_shovel</th>\n",
       "      <th>truck_total_cycle</th>\n",
       "      <th>loader_total_cycle</th>\n",
       "      <th>distance_empty</th>\n",
       "      <th>distance_full</th>\n",
       "      <th>date</th>\n",
       "    </tr>\n",
       "  </thead>\n",
       "  <tbody>\n",
       "    <tr>\n",
       "      <th>0</th>\n",
       "      <td>CAEX56</td>\n",
       "      <td>PH06</td>\n",
       "      <td>299.682208</td>\n",
       "      <td>3.0</td>\n",
       "      <td>2158.0</td>\n",
       "      <td>315.0</td>\n",
       "      <td>4975.0</td>\n",
       "      <td>5191.0</td>\n",
       "      <td>2023-01-01</td>\n",
       "    </tr>\n",
       "    <tr>\n",
       "      <th>1</th>\n",
       "      <td>CAEX64</td>\n",
       "      <td>PH48</td>\n",
       "      <td>316.673117</td>\n",
       "      <td>3.0</td>\n",
       "      <td>1737.0</td>\n",
       "      <td>353.0</td>\n",
       "      <td>5152.0</td>\n",
       "      <td>4960.0</td>\n",
       "      <td>2023-01-01</td>\n",
       "    </tr>\n",
       "    <tr>\n",
       "      <th>2</th>\n",
       "      <td>CAEX41</td>\n",
       "      <td>PH06</td>\n",
       "      <td>340.529701</td>\n",
       "      <td>3.0</td>\n",
       "      <td>2210.0</td>\n",
       "      <td>388.0</td>\n",
       "      <td>5042.0</td>\n",
       "      <td>4859.0</td>\n",
       "      <td>2023-01-01</td>\n",
       "    </tr>\n",
       "  </tbody>\n",
       "</table>\n",
       "</div>"
      ],
      "text/plain": [
       "    truck loader         ton  n_shovel  truck_total_cycle  loader_total_cycle  \\\n",
       "0  CAEX56   PH06  299.682208       3.0             2158.0               315.0   \n",
       "1  CAEX64   PH48  316.673117       3.0             1737.0               353.0   \n",
       "2  CAEX41   PH06  340.529701       3.0             2210.0               388.0   \n",
       "\n",
       "   distance_empty  distance_full        date  \n",
       "0          4975.0         5191.0  2023-01-01  \n",
       "1          5152.0         4960.0  2023-01-01  \n",
       "2          5042.0         4859.0  2023-01-01  "
      ]
     },
     "execution_count": 338,
     "metadata": {},
     "output_type": "execute_result"
    }
   ],
   "source": [
    "#Vista previa de los primeros 3 datos\n",
    "df.head(3)"
   ]
  },
  {
   "cell_type": "code",
   "execution_count": 339,
   "metadata": {},
   "outputs": [
    {
     "name": "stdout",
     "output_type": "stream",
     "text": [
      "<class 'pandas.core.frame.DataFrame'>\n",
      "RangeIndex: 395680 entries, 0 to 395679\n",
      "Data columns (total 9 columns):\n",
      " #   Column              Non-Null Count   Dtype  \n",
      "---  ------              --------------   -----  \n",
      " 0   truck               395680 non-null  object \n",
      " 1   loader              395680 non-null  object \n",
      " 2   ton                 395680 non-null  float64\n",
      " 3   n_shovel            395680 non-null  float64\n",
      " 4   truck_total_cycle   395680 non-null  float64\n",
      " 5   loader_total_cycle  395680 non-null  float64\n",
      " 6   distance_empty      395680 non-null  float64\n",
      " 7   distance_full       395680 non-null  float64\n",
      " 8   date                395680 non-null  object \n",
      "dtypes: float64(6), object(3)\n",
      "memory usage: 27.2+ MB\n"
     ]
    }
   ],
   "source": [
    "#Para ver la información de los valores nulos, tipos de datos y cantidad total de datos que cuenta la base de datos\n",
    "df.info()"
   ]
  },
  {
   "cell_type": "code",
   "execution_count": 340,
   "metadata": {},
   "outputs": [
    {
     "data": {
      "text/html": [
       "<div>\n",
       "<style scoped>\n",
       "    .dataframe tbody tr th:only-of-type {\n",
       "        vertical-align: middle;\n",
       "    }\n",
       "\n",
       "    .dataframe tbody tr th {\n",
       "        vertical-align: top;\n",
       "    }\n",
       "\n",
       "    .dataframe thead th {\n",
       "        text-align: right;\n",
       "    }\n",
       "</style>\n",
       "<table border=\"1\" class=\"dataframe\">\n",
       "  <thead>\n",
       "    <tr style=\"text-align: right;\">\n",
       "      <th></th>\n",
       "      <th>ton</th>\n",
       "      <th>n_shovel</th>\n",
       "      <th>truck_total_cycle</th>\n",
       "      <th>loader_total_cycle</th>\n",
       "      <th>distance_empty</th>\n",
       "      <th>distance_full</th>\n",
       "    </tr>\n",
       "  </thead>\n",
       "  <tbody>\n",
       "    <tr>\n",
       "      <th>count</th>\n",
       "      <td>395680.000000</td>\n",
       "      <td>395680.000000</td>\n",
       "      <td>395680.000000</td>\n",
       "      <td>395680.000000</td>\n",
       "      <td>395680.000000</td>\n",
       "      <td>395680.000000</td>\n",
       "    </tr>\n",
       "    <tr>\n",
       "      <th>mean</th>\n",
       "      <td>318.007490</td>\n",
       "      <td>3.316556</td>\n",
       "      <td>2284.313481</td>\n",
       "      <td>305.073340</td>\n",
       "      <td>6161.241612</td>\n",
       "      <td>5782.712235</td>\n",
       "    </tr>\n",
       "    <tr>\n",
       "      <th>std</th>\n",
       "      <td>18.124753</td>\n",
       "      <td>0.558689</td>\n",
       "      <td>856.620246</td>\n",
       "      <td>116.657122</td>\n",
       "      <td>2569.465489</td>\n",
       "      <td>2355.404982</td>\n",
       "    </tr>\n",
       "    <tr>\n",
       "      <th>min</th>\n",
       "      <td>0.000000</td>\n",
       "      <td>3.000000</td>\n",
       "      <td>23.000000</td>\n",
       "      <td>0.000000</td>\n",
       "      <td>512.000000</td>\n",
       "      <td>504.000000</td>\n",
       "    </tr>\n",
       "    <tr>\n",
       "      <th>25%</th>\n",
       "      <td>305.666647</td>\n",
       "      <td>3.000000</td>\n",
       "      <td>1633.000000</td>\n",
       "      <td>217.000000</td>\n",
       "      <td>3931.000000</td>\n",
       "      <td>3754.000000</td>\n",
       "    </tr>\n",
       "    <tr>\n",
       "      <th>50%</th>\n",
       "      <td>317.758250</td>\n",
       "      <td>3.000000</td>\n",
       "      <td>2134.000000</td>\n",
       "      <td>303.000000</td>\n",
       "      <td>6009.000000</td>\n",
       "      <td>5412.000000</td>\n",
       "    </tr>\n",
       "    <tr>\n",
       "      <th>75%</th>\n",
       "      <td>330.125978</td>\n",
       "      <td>4.000000</td>\n",
       "      <td>2945.000000</td>\n",
       "      <td>390.000000</td>\n",
       "      <td>8059.000000</td>\n",
       "      <td>7798.000000</td>\n",
       "    </tr>\n",
       "    <tr>\n",
       "      <th>max</th>\n",
       "      <td>384.927167</td>\n",
       "      <td>15.000000</td>\n",
       "      <td>15812.000000</td>\n",
       "      <td>11692.000000</td>\n",
       "      <td>15783.000000</td>\n",
       "      <td>15691.000000</td>\n",
       "    </tr>\n",
       "  </tbody>\n",
       "</table>\n",
       "</div>"
      ],
      "text/plain": [
       "                 ton       n_shovel  truck_total_cycle  loader_total_cycle  \\\n",
       "count  395680.000000  395680.000000      395680.000000       395680.000000   \n",
       "mean      318.007490       3.316556        2284.313481          305.073340   \n",
       "std        18.124753       0.558689         856.620246          116.657122   \n",
       "min         0.000000       3.000000          23.000000            0.000000   \n",
       "25%       305.666647       3.000000        1633.000000          217.000000   \n",
       "50%       317.758250       3.000000        2134.000000          303.000000   \n",
       "75%       330.125978       4.000000        2945.000000          390.000000   \n",
       "max       384.927167      15.000000       15812.000000        11692.000000   \n",
       "\n",
       "       distance_empty  distance_full  \n",
       "count   395680.000000  395680.000000  \n",
       "mean      6161.241612    5782.712235  \n",
       "std       2569.465489    2355.404982  \n",
       "min        512.000000     504.000000  \n",
       "25%       3931.000000    3754.000000  \n",
       "50%       6009.000000    5412.000000  \n",
       "75%       8059.000000    7798.000000  \n",
       "max      15783.000000   15691.000000  "
      ]
     },
     "execution_count": 340,
     "metadata": {},
     "output_type": "execute_result"
    }
   ],
   "source": [
    "#Para obtener una descripción estadística de las columnas numéricas\n",
    "df.describe()"
   ]
  },
  {
   "cell_type": "markdown",
   "metadata": {},
   "source": [
    "Definición de datos incongruentes por columna:\n",
    "\n",
    "- Ton: Se presenta que el dato mínimo es de 0 toneladas, lo cual no es correcto ya que es una base de datos de acarreo de material.\n",
    "\n",
    "- n_shovel: En esta columna se puede apreciar que el promedio de paladas es de 3.31, pero al observar el valor máximo encontrado es de 15, lo cual se evidencia que existe algún error\n",
    "\n",
    "- truck_total_cycle: podemos apreciar que en promedio el tiempo de ciclo de los camiones es de 2284, pero se tiene un valor máximo de 15812 segundos lo cual es casi 7 veces lo que se tiene en promedio\n",
    "\n",
    "- loader total_cycle: al igual que en los casos anteriores, se tiene un promedio de 305.07  pero, existe un valor con un máximo de 11692 segundos y a su vezun valor mínimo de 0\n",
    "\n",
    "- distance_empty: se tiene que em promedio son 6161.24 segundos pero hay un valor que es de 15783 lo cual no calza con este promedio.\n",
    "\n",
    "- distance_full: se tieneun promedio de 2355.40 pero como valor máximo se tiene un dato de 15691\n",
    "\n",
    "En conclusión se limpiará en base a cada problematica d elas columnas para tener una buena calidad de datos\n"
   ]
  },
  {
   "cell_type": "code",
   "execution_count": 341,
   "metadata": {},
   "outputs": [
    {
     "data": {
      "text/html": [
       "<div>\n",
       "<style scoped>\n",
       "    .dataframe tbody tr th:only-of-type {\n",
       "        vertical-align: middle;\n",
       "    }\n",
       "\n",
       "    .dataframe tbody tr th {\n",
       "        vertical-align: top;\n",
       "    }\n",
       "\n",
       "    .dataframe thead th {\n",
       "        text-align: right;\n",
       "    }\n",
       "</style>\n",
       "<table border=\"1\" class=\"dataframe\">\n",
       "  <thead>\n",
       "    <tr style=\"text-align: right;\">\n",
       "      <th></th>\n",
       "      <th>truck</th>\n",
       "      <th>loader</th>\n",
       "      <th>date</th>\n",
       "    </tr>\n",
       "  </thead>\n",
       "  <tbody>\n",
       "    <tr>\n",
       "      <th>count</th>\n",
       "      <td>395680</td>\n",
       "      <td>395680</td>\n",
       "      <td>395680</td>\n",
       "    </tr>\n",
       "    <tr>\n",
       "      <th>unique</th>\n",
       "      <td>47</td>\n",
       "      <td>4</td>\n",
       "      <td>509</td>\n",
       "    </tr>\n",
       "    <tr>\n",
       "      <th>top</th>\n",
       "      <td>CAEX66</td>\n",
       "      <td>PH58</td>\n",
       "      <td>2023-12-26</td>\n",
       "    </tr>\n",
       "    <tr>\n",
       "      <th>freq</th>\n",
       "      <td>18531</td>\n",
       "      <td>125098</td>\n",
       "      <td>1368</td>\n",
       "    </tr>\n",
       "  </tbody>\n",
       "</table>\n",
       "</div>"
      ],
      "text/plain": [
       "         truck  loader        date\n",
       "count   395680  395680      395680\n",
       "unique      47       4         509\n",
       "top     CAEX66    PH58  2023-12-26\n",
       "freq     18531  125098        1368"
      ]
     },
     "execution_count": 341,
     "metadata": {},
     "output_type": "execute_result"
    }
   ],
   "source": [
    "#Podemos ver una descripción de las columnas categoricas\n",
    "df.describe(include=['O'])"
   ]
  },
  {
   "cell_type": "markdown",
   "metadata": {},
   "source": [
    "Con la descripción de las valores categoricas podemos ver que en total se tienen 47 Camiones y 4 cargadores (Palas). como también, los que se repiten con una mayor frecuencia en la base de datos"
   ]
  },
  {
   "cell_type": "code",
   "execution_count": 342,
   "metadata": {},
   "outputs": [
    {
     "data": {
      "text/plain": [
       "(395680, 9)"
      ]
     },
     "execution_count": 342,
     "metadata": {},
     "output_type": "execute_result"
    }
   ],
   "source": [
    "#Verificamos el tamaño del dataset\n",
    "df.shape"
   ]
  },
  {
   "cell_type": "markdown",
   "metadata": {},
   "source": [
    "# 4. Transformación"
   ]
  },
  {
   "cell_type": "markdown",
   "metadata": {},
   "source": [
    "## 4.1. Visualización y Limpieza de Outliers"
   ]
  },
  {
   "cell_type": "markdown",
   "metadata": {},
   "source": [
    "### 4.1.1.  Limpieza columna ton"
   ]
  },
  {
   "cell_type": "code",
   "execution_count": 343,
   "metadata": {},
   "outputs": [
    {
     "data": {
      "image/png": "[encoded data removed]",
      "text/plain": [
       "<Figure size 1000x500 with 1 Axes>"
      ]
     },
     "metadata": {},
     "output_type": "display_data"
    }
   ],
   "source": [
    "#Graficamos un boxplot para observar los outliers\n",
    "plt.figure(figsize=(10, 5))\n",
    "sns.boxplot(x=df['ton']) \n",
    "plt.show()"
   ]
  },
  {
   "cell_type": "markdown",
   "metadata": {},
   "source": [
    "En este caso podemos ver que hay datos bastantes datos átipicos sobre todo algunos datos que se encuentra en 0 de tonelaje. \n",
    "\n",
    "por ende, se utilizará el rango intercuartílico para disminuir estos valores."
   ]
  },
  {
   "cell_type": "code",
   "execution_count": 344,
   "metadata": {},
   "outputs": [
    {
     "name": "stdout",
     "output_type": "stream",
     "text": [
      "{'ton': 2382}\n"
     ]
    }
   ],
   "source": [
    "#N° de outliers usando rango IQR\n",
    "outliers = {}\n",
    "\n",
    "Q1 = np.percentile(df['ton'], 25)\n",
    "Q3 = np.percentile(df['ton'], 75)\n",
    "IQR = Q3 - Q1\n",
    "lim_inferior = Q1 - 1.5 * IQR\n",
    "lim_superior = Q3 + 1.5 * IQR\n",
    "outliers['ton'] = int((df['ton'] > lim_superior).sum() + (df['ton'] < lim_inferior).sum())\n",
    "\n",
    "print(outliers)"
   ]
  },
  {
   "cell_type": "code",
   "execution_count": 345,
   "metadata": {},
   "outputs": [
    {
     "data": {
      "text/html": [
       "<div>\n",
       "<style scoped>\n",
       "    .dataframe tbody tr th:only-of-type {\n",
       "        vertical-align: middle;\n",
       "    }\n",
       "\n",
       "    .dataframe tbody tr th {\n",
       "        vertical-align: top;\n",
       "    }\n",
       "\n",
       "    .dataframe thead th {\n",
       "        text-align: right;\n",
       "    }\n",
       "</style>\n",
       "<table border=\"1\" class=\"dataframe\">\n",
       "  <thead>\n",
       "    <tr style=\"text-align: right;\">\n",
       "      <th></th>\n",
       "      <th>truck</th>\n",
       "      <th>loader</th>\n",
       "      <th>ton</th>\n",
       "      <th>n_shovel</th>\n",
       "      <th>truck_total_cycle</th>\n",
       "      <th>loader_total_cycle</th>\n",
       "      <th>distance_empty</th>\n",
       "      <th>distance_full</th>\n",
       "      <th>date</th>\n",
       "    </tr>\n",
       "  </thead>\n",
       "  <tbody>\n",
       "    <tr>\n",
       "      <th>325362</th>\n",
       "      <td>CAEX60</td>\n",
       "      <td>PH55</td>\n",
       "      <td>0.000000</td>\n",
       "      <td>3.0</td>\n",
       "      <td>2049.0</td>\n",
       "      <td>52.0</td>\n",
       "      <td>4574.0</td>\n",
       "      <td>4430.0</td>\n",
       "      <td>2024-03-10</td>\n",
       "    </tr>\n",
       "    <tr>\n",
       "      <th>325469</th>\n",
       "      <td>CAEX23</td>\n",
       "      <td>PH55</td>\n",
       "      <td>0.000000</td>\n",
       "      <td>3.0</td>\n",
       "      <td>1973.0</td>\n",
       "      <td>228.0</td>\n",
       "      <td>4463.0</td>\n",
       "      <td>4384.0</td>\n",
       "      <td>2024-03-10</td>\n",
       "    </tr>\n",
       "    <tr>\n",
       "      <th>185057</th>\n",
       "      <td>CAEX66</td>\n",
       "      <td>PH48</td>\n",
       "      <td>260.038945</td>\n",
       "      <td>3.0</td>\n",
       "      <td>3041.0</td>\n",
       "      <td>359.0</td>\n",
       "      <td>7644.0</td>\n",
       "      <td>8338.0</td>\n",
       "      <td>2023-10-05</td>\n",
       "    </tr>\n",
       "    <tr>\n",
       "      <th>172672</th>\n",
       "      <td>CAEX81</td>\n",
       "      <td>PH58</td>\n",
       "      <td>260.081832</td>\n",
       "      <td>4.0</td>\n",
       "      <td>2665.0</td>\n",
       "      <td>429.0</td>\n",
       "      <td>7921.0</td>\n",
       "      <td>7704.0</td>\n",
       "      <td>2023-09-16</td>\n",
       "    </tr>\n",
       "    <tr>\n",
       "      <th>103180</th>\n",
       "      <td>CAEX56</td>\n",
       "      <td>PH48</td>\n",
       "      <td>260.095310</td>\n",
       "      <td>3.0</td>\n",
       "      <td>2816.0</td>\n",
       "      <td>333.0</td>\n",
       "      <td>10208.0</td>\n",
       "      <td>8370.0</td>\n",
       "      <td>2023-05-29</td>\n",
       "    </tr>\n",
       "    <tr>\n",
       "      <th>...</th>\n",
       "      <td>...</td>\n",
       "      <td>...</td>\n",
       "      <td>...</td>\n",
       "      <td>...</td>\n",
       "      <td>...</td>\n",
       "      <td>...</td>\n",
       "      <td>...</td>\n",
       "      <td>...</td>\n",
       "      <td>...</td>\n",
       "    </tr>\n",
       "    <tr>\n",
       "      <th>216645</th>\n",
       "      <td>CAEX52</td>\n",
       "      <td>PH58</td>\n",
       "      <td>384.366848</td>\n",
       "      <td>4.0</td>\n",
       "      <td>1470.0</td>\n",
       "      <td>238.0</td>\n",
       "      <td>9802.0</td>\n",
       "      <td>1099.0</td>\n",
       "      <td>2023-11-12</td>\n",
       "    </tr>\n",
       "    <tr>\n",
       "      <th>21237</th>\n",
       "      <td>CAEX41</td>\n",
       "      <td>PH55</td>\n",
       "      <td>384.638768</td>\n",
       "      <td>5.0</td>\n",
       "      <td>2457.0</td>\n",
       "      <td>223.0</td>\n",
       "      <td>4963.0</td>\n",
       "      <td>4246.0</td>\n",
       "      <td>2023-02-02</td>\n",
       "    </tr>\n",
       "    <tr>\n",
       "      <th>341291</th>\n",
       "      <td>CAEX93</td>\n",
       "      <td>PH58</td>\n",
       "      <td>384.690754</td>\n",
       "      <td>6.0</td>\n",
       "      <td>1896.0</td>\n",
       "      <td>540.0</td>\n",
       "      <td>3719.0</td>\n",
       "      <td>5980.0</td>\n",
       "      <td>2024-03-26</td>\n",
       "    </tr>\n",
       "    <tr>\n",
       "      <th>12611</th>\n",
       "      <td>CAEX58</td>\n",
       "      <td>PH06</td>\n",
       "      <td>384.822104</td>\n",
       "      <td>5.0</td>\n",
       "      <td>1823.0</td>\n",
       "      <td>633.0</td>\n",
       "      <td>5156.0</td>\n",
       "      <td>3916.0</td>\n",
       "      <td>2023-01-19</td>\n",
       "    </tr>\n",
       "    <tr>\n",
       "      <th>293516</th>\n",
       "      <td>CAEX81</td>\n",
       "      <td>PH48</td>\n",
       "      <td>384.927167</td>\n",
       "      <td>4.0</td>\n",
       "      <td>3522.0</td>\n",
       "      <td>475.0</td>\n",
       "      <td>2062.0</td>\n",
       "      <td>9040.0</td>\n",
       "      <td>2024-01-30</td>\n",
       "    </tr>\n",
       "  </tbody>\n",
       "</table>\n",
       "<p>2382 rows × 9 columns</p>\n",
       "</div>"
      ],
      "text/plain": [
       "         truck loader         ton  n_shovel  truck_total_cycle  \\\n",
       "325362  CAEX60   PH55    0.000000       3.0             2049.0   \n",
       "325469  CAEX23   PH55    0.000000       3.0             1973.0   \n",
       "185057  CAEX66   PH48  260.038945       3.0             3041.0   \n",
       "172672  CAEX81   PH58  260.081832       4.0             2665.0   \n",
       "103180  CAEX56   PH48  260.095310       3.0             2816.0   \n",
       "...        ...    ...         ...       ...                ...   \n",
       "216645  CAEX52   PH58  384.366848       4.0             1470.0   \n",
       "21237   CAEX41   PH55  384.638768       5.0             2457.0   \n",
       "341291  CAEX93   PH58  384.690754       6.0             1896.0   \n",
       "12611   CAEX58   PH06  384.822104       5.0             1823.0   \n",
       "293516  CAEX81   PH48  384.927167       4.0             3522.0   \n",
       "\n",
       "        loader_total_cycle  distance_empty  distance_full        date  \n",
       "325362                52.0          4574.0         4430.0  2024-03-10  \n",
       "325469               228.0          4463.0         4384.0  2024-03-10  \n",
       "185057               359.0          7644.0         8338.0  2023-10-05  \n",
       "172672               429.0          7921.0         7704.0  2023-09-16  \n",
       "103180               333.0         10208.0         8370.0  2023-05-29  \n",
       "...                    ...             ...            ...         ...  \n",
       "216645               238.0          9802.0         1099.0  2023-11-12  \n",
       "21237                223.0          4963.0         4246.0  2023-02-02  \n",
       "341291               540.0          3719.0         5980.0  2024-03-26  \n",
       "12611                633.0          5156.0         3916.0  2023-01-19  \n",
       "293516               475.0          2062.0         9040.0  2024-01-30  \n",
       "\n",
       "[2382 rows x 9 columns]"
      ]
     },
     "execution_count": 345,
     "metadata": {},
     "output_type": "execute_result"
    }
   ],
   "source": [
    "#Vemos las filas que son consideradas outliers dado los tonelajes ordenadas de menor a mayor\n",
    "ubicacion_outliers_paladas = (df['ton'] < lim_inferior) | (df['ton'] > lim_superior)\n",
    "df[ubicacion_outliers_paladas].sort_values('ton')"
   ]
  },
  {
   "cell_type": "code",
   "execution_count": 346,
   "metadata": {},
   "outputs": [
    {
     "data": {
      "text/html": [
       "<div>\n",
       "<style scoped>\n",
       "    .dataframe tbody tr th:only-of-type {\n",
       "        vertical-align: middle;\n",
       "    }\n",
       "\n",
       "    .dataframe tbody tr th {\n",
       "        vertical-align: top;\n",
       "    }\n",
       "\n",
       "    .dataframe thead th {\n",
       "        text-align: right;\n",
       "    }\n",
       "</style>\n",
       "<table border=\"1\" class=\"dataframe\">\n",
       "  <thead>\n",
       "    <tr style=\"text-align: right;\">\n",
       "      <th></th>\n",
       "      <th>truck</th>\n",
       "      <th>loader</th>\n",
       "      <th>ton</th>\n",
       "      <th>n_shovel</th>\n",
       "      <th>truck_total_cycle</th>\n",
       "      <th>loader_total_cycle</th>\n",
       "      <th>distance_empty</th>\n",
       "      <th>distance_full</th>\n",
       "      <th>date</th>\n",
       "    </tr>\n",
       "  </thead>\n",
       "  <tbody>\n",
       "    <tr>\n",
       "      <th>0</th>\n",
       "      <td>CAEX56</td>\n",
       "      <td>PH06</td>\n",
       "      <td>299.682208</td>\n",
       "      <td>3.0</td>\n",
       "      <td>2158.0</td>\n",
       "      <td>315.0</td>\n",
       "      <td>4975.0</td>\n",
       "      <td>5191.0</td>\n",
       "      <td>2023-01-01</td>\n",
       "    </tr>\n",
       "    <tr>\n",
       "      <th>1</th>\n",
       "      <td>CAEX64</td>\n",
       "      <td>PH48</td>\n",
       "      <td>316.673117</td>\n",
       "      <td>3.0</td>\n",
       "      <td>1737.0</td>\n",
       "      <td>353.0</td>\n",
       "      <td>5152.0</td>\n",
       "      <td>4960.0</td>\n",
       "      <td>2023-01-01</td>\n",
       "    </tr>\n",
       "    <tr>\n",
       "      <th>2</th>\n",
       "      <td>CAEX41</td>\n",
       "      <td>PH06</td>\n",
       "      <td>340.529701</td>\n",
       "      <td>3.0</td>\n",
       "      <td>2210.0</td>\n",
       "      <td>388.0</td>\n",
       "      <td>5042.0</td>\n",
       "      <td>4859.0</td>\n",
       "      <td>2023-01-01</td>\n",
       "    </tr>\n",
       "    <tr>\n",
       "      <th>3</th>\n",
       "      <td>CAEX41</td>\n",
       "      <td>PH06</td>\n",
       "      <td>292.835476</td>\n",
       "      <td>3.0</td>\n",
       "      <td>2073.0</td>\n",
       "      <td>260.0</td>\n",
       "      <td>5005.0</td>\n",
       "      <td>4869.0</td>\n",
       "      <td>2023-01-01</td>\n",
       "    </tr>\n",
       "    <tr>\n",
       "      <th>4</th>\n",
       "      <td>CAEX71</td>\n",
       "      <td>PH06</td>\n",
       "      <td>337.056639</td>\n",
       "      <td>3.0</td>\n",
       "      <td>2346.0</td>\n",
       "      <td>148.0</td>\n",
       "      <td>5614.0</td>\n",
       "      <td>5289.0</td>\n",
       "      <td>2023-01-01</td>\n",
       "    </tr>\n",
       "    <tr>\n",
       "      <th>...</th>\n",
       "      <td>...</td>\n",
       "      <td>...</td>\n",
       "      <td>...</td>\n",
       "      <td>...</td>\n",
       "      <td>...</td>\n",
       "      <td>...</td>\n",
       "      <td>...</td>\n",
       "      <td>...</td>\n",
       "      <td>...</td>\n",
       "    </tr>\n",
       "    <tr>\n",
       "      <th>393293</th>\n",
       "      <td>CAEX22</td>\n",
       "      <td>PH58</td>\n",
       "      <td>320.327729</td>\n",
       "      <td>3.0</td>\n",
       "      <td>1976.0</td>\n",
       "      <td>320.0</td>\n",
       "      <td>1671.0</td>\n",
       "      <td>4884.0</td>\n",
       "      <td>2024-05-24</td>\n",
       "    </tr>\n",
       "    <tr>\n",
       "      <th>393294</th>\n",
       "      <td>CAEX30</td>\n",
       "      <td>PH48</td>\n",
       "      <td>274.369483</td>\n",
       "      <td>4.0</td>\n",
       "      <td>1826.0</td>\n",
       "      <td>275.0</td>\n",
       "      <td>4021.0</td>\n",
       "      <td>5000.0</td>\n",
       "      <td>2024-05-24</td>\n",
       "    </tr>\n",
       "    <tr>\n",
       "      <th>393295</th>\n",
       "      <td>CAEX37</td>\n",
       "      <td>PH58</td>\n",
       "      <td>319.958519</td>\n",
       "      <td>3.0</td>\n",
       "      <td>1834.0</td>\n",
       "      <td>268.0</td>\n",
       "      <td>4630.0</td>\n",
       "      <td>4882.0</td>\n",
       "      <td>2024-05-24</td>\n",
       "    </tr>\n",
       "    <tr>\n",
       "      <th>393296</th>\n",
       "      <td>CAEX08</td>\n",
       "      <td>PH55</td>\n",
       "      <td>296.690314</td>\n",
       "      <td>3.0</td>\n",
       "      <td>1729.0</td>\n",
       "      <td>318.0</td>\n",
       "      <td>3925.0</td>\n",
       "      <td>3941.0</td>\n",
       "      <td>2024-05-24</td>\n",
       "    </tr>\n",
       "    <tr>\n",
       "      <th>393297</th>\n",
       "      <td>CAEX23</td>\n",
       "      <td>PH55</td>\n",
       "      <td>281.644303</td>\n",
       "      <td>3.0</td>\n",
       "      <td>1986.0</td>\n",
       "      <td>305.0</td>\n",
       "      <td>4097.0</td>\n",
       "      <td>4072.0</td>\n",
       "      <td>2024-05-24</td>\n",
       "    </tr>\n",
       "  </tbody>\n",
       "</table>\n",
       "<p>393298 rows × 9 columns</p>\n",
       "</div>"
      ],
      "text/plain": [
       "         truck loader         ton  n_shovel  truck_total_cycle  \\\n",
       "0       CAEX56   PH06  299.682208       3.0             2158.0   \n",
       "1       CAEX64   PH48  316.673117       3.0             1737.0   \n",
       "2       CAEX41   PH06  340.529701       3.0             2210.0   \n",
       "3       CAEX41   PH06  292.835476       3.0             2073.0   \n",
       "4       CAEX71   PH06  337.056639       3.0             2346.0   \n",
       "...        ...    ...         ...       ...                ...   \n",
       "393293  CAEX22   PH58  320.327729       3.0             1976.0   \n",
       "393294  CAEX30   PH48  274.369483       4.0             1826.0   \n",
       "393295  CAEX37   PH58  319.958519       3.0             1834.0   \n",
       "393296  CAEX08   PH55  296.690314       3.0             1729.0   \n",
       "393297  CAEX23   PH55  281.644303       3.0             1986.0   \n",
       "\n",
       "        loader_total_cycle  distance_empty  distance_full        date  \n",
       "0                    315.0          4975.0         5191.0  2023-01-01  \n",
       "1                    353.0          5152.0         4960.0  2023-01-01  \n",
       "2                    388.0          5042.0         4859.0  2023-01-01  \n",
       "3                    260.0          5005.0         4869.0  2023-01-01  \n",
       "4                    148.0          5614.0         5289.0  2023-01-01  \n",
       "...                    ...             ...            ...         ...  \n",
       "393293               320.0          1671.0         4884.0  2024-05-24  \n",
       "393294               275.0          4021.0         5000.0  2024-05-24  \n",
       "393295               268.0          4630.0         4882.0  2024-05-24  \n",
       "393296               318.0          3925.0         3941.0  2024-05-24  \n",
       "393297               305.0          4097.0         4072.0  2024-05-24  \n",
       "\n",
       "[393298 rows x 9 columns]"
      ]
     },
     "execution_count": 346,
     "metadata": {},
     "output_type": "execute_result"
    }
   ],
   "source": [
    "#reordenamos nuestro daataset sin los outliers anteriores\n",
    "df_sin_out_ton = (df['ton'] >= lim_inferior) & (df['ton'] <= lim_superior)\n",
    "df_ton = df[df_sin_out_ton].reset_index(drop=True)\n",
    "df_ton"
   ]
  },
  {
   "cell_type": "markdown",
   "metadata": {},
   "source": [
    "Revisamos por  el boxplot y su estadistica descriptiva con los datos actualizados"
   ]
  },
  {
   "cell_type": "code",
   "execution_count": 347,
   "metadata": {},
   "outputs": [
    {
     "data": {
      "text/plain": [
       "count    393298.000000\n",
       "mean        317.896667\n",
       "std          17.688370\n",
       "min         268.987963\n",
       "25%         305.694247\n",
       "50%         317.710688\n",
       "75%         329.973666\n",
       "max         366.808994\n",
       "Name: ton, dtype: float64"
      ]
     },
     "execution_count": 347,
     "metadata": {},
     "output_type": "execute_result"
    }
   ],
   "source": [
    "df_ton['ton'].describe()"
   ]
  },
  {
   "cell_type": "code",
   "execution_count": 348,
   "metadata": {},
   "outputs": [
    {
     "data": {
      "image/png": "[encoded data removed]",
      "text/plain": [
       "<Figure size 1000x500 with 1 Axes>"
      ]
     },
     "metadata": {},
     "output_type": "display_data"
    }
   ],
   "source": [
    "#Graficamos un boxplot para observar los outliers\n",
    "plt.figure(figsize=(10, 5))\n",
    "sns.boxplot(x=df_ton['ton']) \n",
    "plt.show()"
   ]
  },
  {
   "cell_type": "markdown",
   "metadata": {},
   "source": [
    "Con esto, podemos ver que el mínimo ha cambiado y  solo se presentan valores átipicos en sus extremos"
   ]
  },
  {
   "cell_type": "markdown",
   "metadata": {},
   "source": [
    "----------------"
   ]
  },
  {
   "cell_type": "markdown",
   "metadata": {},
   "source": [
    "### 4.1.2. Limpieza Columna n_shovel"
   ]
  },
  {
   "cell_type": "code",
   "execution_count": 349,
   "metadata": {},
   "outputs": [
    {
     "data": {
      "image/png": "[encoded data removed]",
      "text/plain": [
       "<Figure size 1000x500 with 1 Axes>"
      ]
     },
     "metadata": {},
     "output_type": "display_data"
    }
   ],
   "source": [
    "#Graficamos un boxplot para observar los outliers\n",
    "plt.figure(figsize=(10, 5))\n",
    "sns.boxplot(x=df_ton['n_shovel']) \n",
    "plt.show()"
   ]
  },
  {
   "cell_type": "markdown",
   "metadata": {},
   "source": [
    "En este caso podemos ver que existen varios datos átipicos fuera del extremo superior que se presenta en este grafico por lo que se procederá a utilizárá el rango intercuartílico para disminuir estos numeros lejanos a lo normal."
   ]
  },
  {
   "cell_type": "code",
   "execution_count": 350,
   "metadata": {},
   "outputs": [
    {
     "name": "stdout",
     "output_type": "stream",
     "text": [
      "{'n_shovel': 2378}\n"
     ]
    }
   ],
   "source": [
    "#N° de outliers usando rango IQR\n",
    "outliers_paladas = {}\n",
    "\n",
    "Q1_pala = np.percentile(df_ton['n_shovel'], 25)\n",
    "Q3_pala = np.percentile(df_ton['n_shovel'], 75)\n",
    "IQR_pala = Q3_pala - Q1_pala\n",
    "lim_inferior_pala = Q1_pala - 1.5 * IQR_pala\n",
    "lim_superior_pala = Q3_pala + 1.5 * IQR_pala\n",
    "outliers_paladas['n_shovel'] = int((df_ton['n_shovel'] > lim_superior_pala).sum() + (df_ton['n_shovel'] < lim_inferior_pala).sum())\n",
    "\n",
    "print(outliers_paladas)"
   ]
  },
  {
   "cell_type": "code",
   "execution_count": 351,
   "metadata": {},
   "outputs": [
    {
     "data": {
      "text/html": [
       "<div>\n",
       "<style scoped>\n",
       "    .dataframe tbody tr th:only-of-type {\n",
       "        vertical-align: middle;\n",
       "    }\n",
       "\n",
       "    .dataframe tbody tr th {\n",
       "        vertical-align: top;\n",
       "    }\n",
       "\n",
       "    .dataframe thead th {\n",
       "        text-align: right;\n",
       "    }\n",
       "</style>\n",
       "<table border=\"1\" class=\"dataframe\">\n",
       "  <thead>\n",
       "    <tr style=\"text-align: right;\">\n",
       "      <th></th>\n",
       "      <th>truck</th>\n",
       "      <th>loader</th>\n",
       "      <th>ton</th>\n",
       "      <th>n_shovel</th>\n",
       "      <th>truck_total_cycle</th>\n",
       "      <th>loader_total_cycle</th>\n",
       "      <th>distance_empty</th>\n",
       "      <th>distance_full</th>\n",
       "      <th>date</th>\n",
       "    </tr>\n",
       "  </thead>\n",
       "  <tbody>\n",
       "    <tr>\n",
       "      <th>620</th>\n",
       "      <td>CAEX93</td>\n",
       "      <td>PH55</td>\n",
       "      <td>307.756957</td>\n",
       "      <td>6.0</td>\n",
       "      <td>3016.0</td>\n",
       "      <td>382.0</td>\n",
       "      <td>4060.0</td>\n",
       "      <td>7854.0</td>\n",
       "      <td>2023-01-02</td>\n",
       "    </tr>\n",
       "    <tr>\n",
       "      <th>393041</th>\n",
       "      <td>CAEX41</td>\n",
       "      <td>PH55</td>\n",
       "      <td>341.438053</td>\n",
       "      <td>6.0</td>\n",
       "      <td>2242.0</td>\n",
       "      <td>423.0</td>\n",
       "      <td>4132.0</td>\n",
       "      <td>4099.0</td>\n",
       "      <td>2024-05-24</td>\n",
       "    </tr>\n",
       "    <tr>\n",
       "      <th>392668</th>\n",
       "      <td>CAEX98</td>\n",
       "      <td>PH55</td>\n",
       "      <td>350.547260</td>\n",
       "      <td>6.0</td>\n",
       "      <td>2480.0</td>\n",
       "      <td>470.0</td>\n",
       "      <td>4076.0</td>\n",
       "      <td>3902.0</td>\n",
       "      <td>2024-05-24</td>\n",
       "    </tr>\n",
       "    <tr>\n",
       "      <th>392599</th>\n",
       "      <td>CAEX22</td>\n",
       "      <td>PH55</td>\n",
       "      <td>352.435810</td>\n",
       "      <td>6.0</td>\n",
       "      <td>2041.0</td>\n",
       "      <td>440.0</td>\n",
       "      <td>4134.0</td>\n",
       "      <td>4045.0</td>\n",
       "      <td>2024-05-24</td>\n",
       "    </tr>\n",
       "    <tr>\n",
       "      <th>391786</th>\n",
       "      <td>CAEX24</td>\n",
       "      <td>PH48</td>\n",
       "      <td>308.235793</td>\n",
       "      <td>6.0</td>\n",
       "      <td>2738.0</td>\n",
       "      <td>427.0</td>\n",
       "      <td>9752.0</td>\n",
       "      <td>9752.0</td>\n",
       "      <td>2024-05-22</td>\n",
       "    </tr>\n",
       "    <tr>\n",
       "      <th>...</th>\n",
       "      <td>...</td>\n",
       "      <td>...</td>\n",
       "      <td>...</td>\n",
       "      <td>...</td>\n",
       "      <td>...</td>\n",
       "      <td>...</td>\n",
       "      <td>...</td>\n",
       "      <td>...</td>\n",
       "      <td>...</td>\n",
       "    </tr>\n",
       "    <tr>\n",
       "      <th>134242</th>\n",
       "      <td>CAEX21</td>\n",
       "      <td>PH55</td>\n",
       "      <td>346.862248</td>\n",
       "      <td>9.0</td>\n",
       "      <td>2638.0</td>\n",
       "      <td>659.0</td>\n",
       "      <td>6049.0</td>\n",
       "      <td>4492.0</td>\n",
       "      <td>2023-07-14</td>\n",
       "    </tr>\n",
       "    <tr>\n",
       "      <th>113018</th>\n",
       "      <td>CAEX74</td>\n",
       "      <td>PH48</td>\n",
       "      <td>344.151458</td>\n",
       "      <td>10.0</td>\n",
       "      <td>3455.0</td>\n",
       "      <td>184.0</td>\n",
       "      <td>8310.0</td>\n",
       "      <td>8180.0</td>\n",
       "      <td>2023-06-13</td>\n",
       "    </tr>\n",
       "    <tr>\n",
       "      <th>50254</th>\n",
       "      <td>CAEX42</td>\n",
       "      <td>PH48</td>\n",
       "      <td>291.378209</td>\n",
       "      <td>10.0</td>\n",
       "      <td>3457.0</td>\n",
       "      <td>694.0</td>\n",
       "      <td>6824.0</td>\n",
       "      <td>6830.0</td>\n",
       "      <td>2023-03-17</td>\n",
       "    </tr>\n",
       "    <tr>\n",
       "      <th>121410</th>\n",
       "      <td>CAEX60</td>\n",
       "      <td>PH06</td>\n",
       "      <td>334.025514</td>\n",
       "      <td>13.0</td>\n",
       "      <td>1940.0</td>\n",
       "      <td>115.0</td>\n",
       "      <td>6720.0</td>\n",
       "      <td>3422.0</td>\n",
       "      <td>2023-06-25</td>\n",
       "    </tr>\n",
       "    <tr>\n",
       "      <th>150760</th>\n",
       "      <td>CAEX84</td>\n",
       "      <td>PH48</td>\n",
       "      <td>335.901772</td>\n",
       "      <td>15.0</td>\n",
       "      <td>2373.0</td>\n",
       "      <td>186.0</td>\n",
       "      <td>10423.0</td>\n",
       "      <td>6355.0</td>\n",
       "      <td>2023-08-11</td>\n",
       "    </tr>\n",
       "  </tbody>\n",
       "</table>\n",
       "<p>2378 rows × 9 columns</p>\n",
       "</div>"
      ],
      "text/plain": [
       "         truck loader         ton  n_shovel  truck_total_cycle  \\\n",
       "620     CAEX93   PH55  307.756957       6.0             3016.0   \n",
       "393041  CAEX41   PH55  341.438053       6.0             2242.0   \n",
       "392668  CAEX98   PH55  350.547260       6.0             2480.0   \n",
       "392599  CAEX22   PH55  352.435810       6.0             2041.0   \n",
       "391786  CAEX24   PH48  308.235793       6.0             2738.0   \n",
       "...        ...    ...         ...       ...                ...   \n",
       "134242  CAEX21   PH55  346.862248       9.0             2638.0   \n",
       "113018  CAEX74   PH48  344.151458      10.0             3455.0   \n",
       "50254   CAEX42   PH48  291.378209      10.0             3457.0   \n",
       "121410  CAEX60   PH06  334.025514      13.0             1940.0   \n",
       "150760  CAEX84   PH48  335.901772      15.0             2373.0   \n",
       "\n",
       "        loader_total_cycle  distance_empty  distance_full        date  \n",
       "620                  382.0          4060.0         7854.0  2023-01-02  \n",
       "393041               423.0          4132.0         4099.0  2024-05-24  \n",
       "392668               470.0          4076.0         3902.0  2024-05-24  \n",
       "392599               440.0          4134.0         4045.0  2024-05-24  \n",
       "391786               427.0          9752.0         9752.0  2024-05-22  \n",
       "...                    ...             ...            ...         ...  \n",
       "134242               659.0          6049.0         4492.0  2023-07-14  \n",
       "113018               184.0          8310.0         8180.0  2023-06-13  \n",
       "50254                694.0          6824.0         6830.0  2023-03-17  \n",
       "121410               115.0          6720.0         3422.0  2023-06-25  \n",
       "150760               186.0         10423.0         6355.0  2023-08-11  \n",
       "\n",
       "[2378 rows x 9 columns]"
      ]
     },
     "execution_count": 351,
     "metadata": {},
     "output_type": "execute_result"
    }
   ],
   "source": [
    "#Vemos las filas que son consideradas outliers dado las paladas ordenadas de menor a mayor\n",
    "ubicacion_outliers_paladas = (df_ton['n_shovel'] < lim_inferior_pala) | (df_ton['n_shovel'] > lim_superior_pala)\n",
    "df_ton[ubicacion_outliers_paladas].sort_values('n_shovel')"
   ]
  },
  {
   "cell_type": "code",
   "execution_count": 352,
   "metadata": {},
   "outputs": [
    {
     "data": {
      "text/html": [
       "<div>\n",
       "<style scoped>\n",
       "    .dataframe tbody tr th:only-of-type {\n",
       "        vertical-align: middle;\n",
       "    }\n",
       "\n",
       "    .dataframe tbody tr th {\n",
       "        vertical-align: top;\n",
       "    }\n",
       "\n",
       "    .dataframe thead th {\n",
       "        text-align: right;\n",
       "    }\n",
       "</style>\n",
       "<table border=\"1\" class=\"dataframe\">\n",
       "  <thead>\n",
       "    <tr style=\"text-align: right;\">\n",
       "      <th></th>\n",
       "      <th>truck</th>\n",
       "      <th>loader</th>\n",
       "      <th>ton</th>\n",
       "      <th>n_shovel</th>\n",
       "      <th>truck_total_cycle</th>\n",
       "      <th>loader_total_cycle</th>\n",
       "      <th>distance_empty</th>\n",
       "      <th>distance_full</th>\n",
       "      <th>date</th>\n",
       "    </tr>\n",
       "  </thead>\n",
       "  <tbody>\n",
       "    <tr>\n",
       "      <th>0</th>\n",
       "      <td>CAEX56</td>\n",
       "      <td>PH06</td>\n",
       "      <td>299.682208</td>\n",
       "      <td>3.0</td>\n",
       "      <td>2158.0</td>\n",
       "      <td>315.0</td>\n",
       "      <td>4975.0</td>\n",
       "      <td>5191.0</td>\n",
       "      <td>2023-01-01</td>\n",
       "    </tr>\n",
       "    <tr>\n",
       "      <th>1</th>\n",
       "      <td>CAEX64</td>\n",
       "      <td>PH48</td>\n",
       "      <td>316.673117</td>\n",
       "      <td>3.0</td>\n",
       "      <td>1737.0</td>\n",
       "      <td>353.0</td>\n",
       "      <td>5152.0</td>\n",
       "      <td>4960.0</td>\n",
       "      <td>2023-01-01</td>\n",
       "    </tr>\n",
       "    <tr>\n",
       "      <th>2</th>\n",
       "      <td>CAEX41</td>\n",
       "      <td>PH06</td>\n",
       "      <td>340.529701</td>\n",
       "      <td>3.0</td>\n",
       "      <td>2210.0</td>\n",
       "      <td>388.0</td>\n",
       "      <td>5042.0</td>\n",
       "      <td>4859.0</td>\n",
       "      <td>2023-01-01</td>\n",
       "    </tr>\n",
       "    <tr>\n",
       "      <th>3</th>\n",
       "      <td>CAEX41</td>\n",
       "      <td>PH06</td>\n",
       "      <td>292.835476</td>\n",
       "      <td>3.0</td>\n",
       "      <td>2073.0</td>\n",
       "      <td>260.0</td>\n",
       "      <td>5005.0</td>\n",
       "      <td>4869.0</td>\n",
       "      <td>2023-01-01</td>\n",
       "    </tr>\n",
       "    <tr>\n",
       "      <th>4</th>\n",
       "      <td>CAEX71</td>\n",
       "      <td>PH06</td>\n",
       "      <td>337.056639</td>\n",
       "      <td>3.0</td>\n",
       "      <td>2346.0</td>\n",
       "      <td>148.0</td>\n",
       "      <td>5614.0</td>\n",
       "      <td>5289.0</td>\n",
       "      <td>2023-01-01</td>\n",
       "    </tr>\n",
       "    <tr>\n",
       "      <th>...</th>\n",
       "      <td>...</td>\n",
       "      <td>...</td>\n",
       "      <td>...</td>\n",
       "      <td>...</td>\n",
       "      <td>...</td>\n",
       "      <td>...</td>\n",
       "      <td>...</td>\n",
       "      <td>...</td>\n",
       "      <td>...</td>\n",
       "    </tr>\n",
       "    <tr>\n",
       "      <th>390915</th>\n",
       "      <td>CAEX22</td>\n",
       "      <td>PH58</td>\n",
       "      <td>320.327729</td>\n",
       "      <td>3.0</td>\n",
       "      <td>1976.0</td>\n",
       "      <td>320.0</td>\n",
       "      <td>1671.0</td>\n",
       "      <td>4884.0</td>\n",
       "      <td>2024-05-24</td>\n",
       "    </tr>\n",
       "    <tr>\n",
       "      <th>390916</th>\n",
       "      <td>CAEX30</td>\n",
       "      <td>PH48</td>\n",
       "      <td>274.369483</td>\n",
       "      <td>4.0</td>\n",
       "      <td>1826.0</td>\n",
       "      <td>275.0</td>\n",
       "      <td>4021.0</td>\n",
       "      <td>5000.0</td>\n",
       "      <td>2024-05-24</td>\n",
       "    </tr>\n",
       "    <tr>\n",
       "      <th>390917</th>\n",
       "      <td>CAEX37</td>\n",
       "      <td>PH58</td>\n",
       "      <td>319.958519</td>\n",
       "      <td>3.0</td>\n",
       "      <td>1834.0</td>\n",
       "      <td>268.0</td>\n",
       "      <td>4630.0</td>\n",
       "      <td>4882.0</td>\n",
       "      <td>2024-05-24</td>\n",
       "    </tr>\n",
       "    <tr>\n",
       "      <th>390918</th>\n",
       "      <td>CAEX08</td>\n",
       "      <td>PH55</td>\n",
       "      <td>296.690314</td>\n",
       "      <td>3.0</td>\n",
       "      <td>1729.0</td>\n",
       "      <td>318.0</td>\n",
       "      <td>3925.0</td>\n",
       "      <td>3941.0</td>\n",
       "      <td>2024-05-24</td>\n",
       "    </tr>\n",
       "    <tr>\n",
       "      <th>390919</th>\n",
       "      <td>CAEX23</td>\n",
       "      <td>PH55</td>\n",
       "      <td>281.644303</td>\n",
       "      <td>3.0</td>\n",
       "      <td>1986.0</td>\n",
       "      <td>305.0</td>\n",
       "      <td>4097.0</td>\n",
       "      <td>4072.0</td>\n",
       "      <td>2024-05-24</td>\n",
       "    </tr>\n",
       "  </tbody>\n",
       "</table>\n",
       "<p>390920 rows × 9 columns</p>\n",
       "</div>"
      ],
      "text/plain": [
       "         truck loader         ton  n_shovel  truck_total_cycle  \\\n",
       "0       CAEX56   PH06  299.682208       3.0             2158.0   \n",
       "1       CAEX64   PH48  316.673117       3.0             1737.0   \n",
       "2       CAEX41   PH06  340.529701       3.0             2210.0   \n",
       "3       CAEX41   PH06  292.835476       3.0             2073.0   \n",
       "4       CAEX71   PH06  337.056639       3.0             2346.0   \n",
       "...        ...    ...         ...       ...                ...   \n",
       "390915  CAEX22   PH58  320.327729       3.0             1976.0   \n",
       "390916  CAEX30   PH48  274.369483       4.0             1826.0   \n",
       "390917  CAEX37   PH58  319.958519       3.0             1834.0   \n",
       "390918  CAEX08   PH55  296.690314       3.0             1729.0   \n",
       "390919  CAEX23   PH55  281.644303       3.0             1986.0   \n",
       "\n",
       "        loader_total_cycle  distance_empty  distance_full        date  \n",
       "0                    315.0          4975.0         5191.0  2023-01-01  \n",
       "1                    353.0          5152.0         4960.0  2023-01-01  \n",
       "2                    388.0          5042.0         4859.0  2023-01-01  \n",
       "3                    260.0          5005.0         4869.0  2023-01-01  \n",
       "4                    148.0          5614.0         5289.0  2023-01-01  \n",
       "...                    ...             ...            ...         ...  \n",
       "390915               320.0          1671.0         4884.0  2024-05-24  \n",
       "390916               275.0          4021.0         5000.0  2024-05-24  \n",
       "390917               268.0          4630.0         4882.0  2024-05-24  \n",
       "390918               318.0          3925.0         3941.0  2024-05-24  \n",
       "390919               305.0          4097.0         4072.0  2024-05-24  \n",
       "\n",
       "[390920 rows x 9 columns]"
      ]
     },
     "execution_count": 352,
     "metadata": {},
     "output_type": "execute_result"
    }
   ],
   "source": [
    "#reordenamos nuestro daataset sin los outliers anteriores\n",
    "df_sin_out_palas = (df_ton['n_shovel'] >= lim_inferior_pala) & (df_ton['n_shovel'] <= lim_superior_pala)\n",
    "df_pala = df_ton[df_sin_out_palas].reset_index(drop=True)\n",
    "df_pala"
   ]
  },
  {
   "cell_type": "markdown",
   "metadata": {},
   "source": [
    "Revisamos el boxplot y su estadistica descriptiva con los datos actualizados"
   ]
  },
  {
   "cell_type": "code",
   "execution_count": 353,
   "metadata": {},
   "outputs": [
    {
     "data": {
      "text/plain": [
       "count    390920.000000\n",
       "mean          3.297184\n",
       "std           0.508985\n",
       "min           3.000000\n",
       "25%           3.000000\n",
       "50%           3.000000\n",
       "75%           4.000000\n",
       "max           5.000000\n",
       "Name: n_shovel, dtype: float64"
      ]
     },
     "execution_count": 353,
     "metadata": {},
     "output_type": "execute_result"
    }
   ],
   "source": [
    "df_pala['n_shovel'].describe()"
   ]
  },
  {
   "cell_type": "code",
   "execution_count": 354,
   "metadata": {},
   "outputs": [
    {
     "data": {
      "image/png": "[encoded data removed]",
      "text/plain": [
       "<Figure size 1000x500 with 1 Axes>"
      ]
     },
     "metadata": {},
     "output_type": "display_data"
    }
   ],
   "source": [
    "#Graficamos un boxplot para observar los outliers\n",
    "plt.figure(figsize=(10, 5))\n",
    "sns.boxplot(x=df_pala['n_shovel']) \n",
    "plt.show()"
   ]
  },
  {
   "cell_type": "markdown",
   "metadata": {},
   "source": [
    "Con esto apreciamos que el mínimo de paladas son 3 y el máximo de 5 y, en nuestro gráfico de caja no presentamos valores fuera del extremo."
   ]
  },
  {
   "cell_type": "markdown",
   "metadata": {},
   "source": [
    "-------------"
   ]
  },
  {
   "cell_type": "markdown",
   "metadata": {},
   "source": [
    "### 4.1.3. Limpieza columna truck_total_cycle"
   ]
  },
  {
   "cell_type": "code",
   "execution_count": 355,
   "metadata": {},
   "outputs": [
    {
     "data": {
      "image/png": "[encoded data removed]",
      "text/plain": [
       "<Figure size 1000x500 with 1 Axes>"
      ]
     },
     "metadata": {},
     "output_type": "display_data"
    }
   ],
   "source": [
    "#Graficamos un boxplot para observar los outliers\n",
    "plt.figure(figsize=(10, 5))\n",
    "sns.boxplot(x=df_pala['truck_total_cycle']) \n",
    "plt.show()"
   ]
  },
  {
   "cell_type": "markdown",
   "metadata": {},
   "source": [
    "en este caso podemos apreciar que existen muchos valores átípico en el extremo superior por lo que utilizarémos el rango intercuartílico con el fin de disminuir la mayoria de estos"
   ]
  },
  {
   "cell_type": "code",
   "execution_count": 356,
   "metadata": {},
   "outputs": [
    {
     "name": "stdout",
     "output_type": "stream",
     "text": [
      "{'truck_total_cycle': 1127}\n"
     ]
    }
   ],
   "source": [
    "#N° de outliers usando rango IQR\n",
    "outliers_tcycle = {}\n",
    "\n",
    "Q1_tcycle = np.percentile(df_pala['truck_total_cycle'], 25)\n",
    "Q3_tcycle = np.percentile(df_pala['truck_total_cycle'], 75)\n",
    "IQR_tcycle = Q3_tcycle - Q1_tcycle\n",
    "lim_inferior_tcycle = Q1_tcycle - 1.5 * IQR_tcycle\n",
    "lim_superior_tcycle = Q3_tcycle + 1.5 * IQR_tcycle\n",
    "outliers_tcycle['truck_total_cycle'] = int((df_pala['truck_total_cycle'] > lim_superior_tcycle).sum() + (df_pala['truck_total_cycle'] < lim_inferior_tcycle).sum())\n",
    "\n",
    "print(outliers_tcycle)"
   ]
  },
  {
   "cell_type": "code",
   "execution_count": 357,
   "metadata": {},
   "outputs": [
    {
     "data": {
      "text/html": [
       "<div>\n",
       "<style scoped>\n",
       "    .dataframe tbody tr th:only-of-type {\n",
       "        vertical-align: middle;\n",
       "    }\n",
       "\n",
       "    .dataframe tbody tr th {\n",
       "        vertical-align: top;\n",
       "    }\n",
       "\n",
       "    .dataframe thead th {\n",
       "        text-align: right;\n",
       "    }\n",
       "</style>\n",
       "<table border=\"1\" class=\"dataframe\">\n",
       "  <thead>\n",
       "    <tr style=\"text-align: right;\">\n",
       "      <th></th>\n",
       "      <th>truck</th>\n",
       "      <th>loader</th>\n",
       "      <th>ton</th>\n",
       "      <th>n_shovel</th>\n",
       "      <th>truck_total_cycle</th>\n",
       "      <th>loader_total_cycle</th>\n",
       "      <th>distance_empty</th>\n",
       "      <th>distance_full</th>\n",
       "      <th>date</th>\n",
       "    </tr>\n",
       "  </thead>\n",
       "  <tbody>\n",
       "    <tr>\n",
       "      <th>202634</th>\n",
       "      <td>CAEX42</td>\n",
       "      <td>PH58</td>\n",
       "      <td>311.758925</td>\n",
       "      <td>3.0</td>\n",
       "      <td>4923.0</td>\n",
       "      <td>219.0</td>\n",
       "      <td>13738.0</td>\n",
       "      <td>13741.0</td>\n",
       "      <td>2023-10-30</td>\n",
       "    </tr>\n",
       "    <tr>\n",
       "      <th>203965</th>\n",
       "      <td>CAEX37</td>\n",
       "      <td>PH48</td>\n",
       "      <td>332.285246</td>\n",
       "      <td>3.0</td>\n",
       "      <td>4923.0</td>\n",
       "      <td>240.0</td>\n",
       "      <td>13821.0</td>\n",
       "      <td>7970.0</td>\n",
       "      <td>2023-10-31</td>\n",
       "    </tr>\n",
       "    <tr>\n",
       "      <th>252277</th>\n",
       "      <td>CAEX31</td>\n",
       "      <td>PH58</td>\n",
       "      <td>321.731694</td>\n",
       "      <td>3.0</td>\n",
       "      <td>4923.0</td>\n",
       "      <td>379.0</td>\n",
       "      <td>9106.0</td>\n",
       "      <td>9305.0</td>\n",
       "      <td>2023-12-23</td>\n",
       "    </tr>\n",
       "    <tr>\n",
       "      <th>389186</th>\n",
       "      <td>CAEX96</td>\n",
       "      <td>PH48</td>\n",
       "      <td>359.658618</td>\n",
       "      <td>3.0</td>\n",
       "      <td>4923.0</td>\n",
       "      <td>154.0</td>\n",
       "      <td>9182.0</td>\n",
       "      <td>9269.0</td>\n",
       "      <td>2024-05-22</td>\n",
       "    </tr>\n",
       "    <tr>\n",
       "      <th>276772</th>\n",
       "      <td>CAEX55</td>\n",
       "      <td>PH06</td>\n",
       "      <td>347.537088</td>\n",
       "      <td>3.0</td>\n",
       "      <td>4924.0</td>\n",
       "      <td>445.0</td>\n",
       "      <td>10167.0</td>\n",
       "      <td>4276.0</td>\n",
       "      <td>2024-01-17</td>\n",
       "    </tr>\n",
       "    <tr>\n",
       "      <th>...</th>\n",
       "      <td>...</td>\n",
       "      <td>...</td>\n",
       "      <td>...</td>\n",
       "      <td>...</td>\n",
       "      <td>...</td>\n",
       "      <td>...</td>\n",
       "      <td>...</td>\n",
       "      <td>...</td>\n",
       "      <td>...</td>\n",
       "    </tr>\n",
       "    <tr>\n",
       "      <th>109978</th>\n",
       "      <td>CAEX34</td>\n",
       "      <td>PH48</td>\n",
       "      <td>309.863978</td>\n",
       "      <td>3.0</td>\n",
       "      <td>15041.0</td>\n",
       "      <td>390.0</td>\n",
       "      <td>12414.0</td>\n",
       "      <td>7919.0</td>\n",
       "      <td>2023-06-10</td>\n",
       "    </tr>\n",
       "    <tr>\n",
       "      <th>109878</th>\n",
       "      <td>CAEX21</td>\n",
       "      <td>PH48</td>\n",
       "      <td>272.869079</td>\n",
       "      <td>3.0</td>\n",
       "      <td>15232.0</td>\n",
       "      <td>409.0</td>\n",
       "      <td>12445.0</td>\n",
       "      <td>7756.0</td>\n",
       "      <td>2023-06-10</td>\n",
       "    </tr>\n",
       "    <tr>\n",
       "      <th>110236</th>\n",
       "      <td>CAEX94</td>\n",
       "      <td>PH06</td>\n",
       "      <td>298.228803</td>\n",
       "      <td>3.0</td>\n",
       "      <td>15320.0</td>\n",
       "      <td>383.0</td>\n",
       "      <td>14436.0</td>\n",
       "      <td>5557.0</td>\n",
       "      <td>2023-06-10</td>\n",
       "    </tr>\n",
       "    <tr>\n",
       "      <th>106256</th>\n",
       "      <td>CAEX93</td>\n",
       "      <td>PH58</td>\n",
       "      <td>322.482213</td>\n",
       "      <td>3.0</td>\n",
       "      <td>15386.0</td>\n",
       "      <td>424.0</td>\n",
       "      <td>11802.0</td>\n",
       "      <td>8064.0</td>\n",
       "      <td>2023-06-04</td>\n",
       "    </tr>\n",
       "    <tr>\n",
       "      <th>110315</th>\n",
       "      <td>CAEX66</td>\n",
       "      <td>PH48</td>\n",
       "      <td>338.806035</td>\n",
       "      <td>3.0</td>\n",
       "      <td>15812.0</td>\n",
       "      <td>51.0</td>\n",
       "      <td>14255.0</td>\n",
       "      <td>7687.0</td>\n",
       "      <td>2023-06-10</td>\n",
       "    </tr>\n",
       "  </tbody>\n",
       "</table>\n",
       "<p>1127 rows × 9 columns</p>\n",
       "</div>"
      ],
      "text/plain": [
       "         truck loader         ton  n_shovel  truck_total_cycle  \\\n",
       "202634  CAEX42   PH58  311.758925       3.0             4923.0   \n",
       "203965  CAEX37   PH48  332.285246       3.0             4923.0   \n",
       "252277  CAEX31   PH58  321.731694       3.0             4923.0   \n",
       "389186  CAEX96   PH48  359.658618       3.0             4923.0   \n",
       "276772  CAEX55   PH06  347.537088       3.0             4924.0   \n",
       "...        ...    ...         ...       ...                ...   \n",
       "109978  CAEX34   PH48  309.863978       3.0            15041.0   \n",
       "109878  CAEX21   PH48  272.869079       3.0            15232.0   \n",
       "110236  CAEX94   PH06  298.228803       3.0            15320.0   \n",
       "106256  CAEX93   PH58  322.482213       3.0            15386.0   \n",
       "110315  CAEX66   PH48  338.806035       3.0            15812.0   \n",
       "\n",
       "        loader_total_cycle  distance_empty  distance_full        date  \n",
       "202634               219.0         13738.0        13741.0  2023-10-30  \n",
       "203965               240.0         13821.0         7970.0  2023-10-31  \n",
       "252277               379.0          9106.0         9305.0  2023-12-23  \n",
       "389186               154.0          9182.0         9269.0  2024-05-22  \n",
       "276772               445.0         10167.0         4276.0  2024-01-17  \n",
       "...                    ...             ...            ...         ...  \n",
       "109978               390.0         12414.0         7919.0  2023-06-10  \n",
       "109878               409.0         12445.0         7756.0  2023-06-10  \n",
       "110236               383.0         14436.0         5557.0  2023-06-10  \n",
       "106256               424.0         11802.0         8064.0  2023-06-04  \n",
       "110315                51.0         14255.0         7687.0  2023-06-10  \n",
       "\n",
       "[1127 rows x 9 columns]"
      ]
     },
     "execution_count": 357,
     "metadata": {},
     "output_type": "execute_result"
    }
   ],
   "source": [
    "#Vemos las filas que son consideradas outliers dado el tiempo de ciclo del camión ordenadas de menor a mayor\n",
    "ubicacion_outliers_tcycle = (df_pala['truck_total_cycle'] < lim_inferior_tcycle) | (df_pala['truck_total_cycle'] > lim_superior_tcycle)\n",
    "df_pala[ubicacion_outliers_tcycle].sort_values('truck_total_cycle')"
   ]
  },
  {
   "cell_type": "code",
   "execution_count": 358,
   "metadata": {},
   "outputs": [
    {
     "data": {
      "text/html": [
       "<div>\n",
       "<style scoped>\n",
       "    .dataframe tbody tr th:only-of-type {\n",
       "        vertical-align: middle;\n",
       "    }\n",
       "\n",
       "    .dataframe tbody tr th {\n",
       "        vertical-align: top;\n",
       "    }\n",
       "\n",
       "    .dataframe thead th {\n",
       "        text-align: right;\n",
       "    }\n",
       "</style>\n",
       "<table border=\"1\" class=\"dataframe\">\n",
       "  <thead>\n",
       "    <tr style=\"text-align: right;\">\n",
       "      <th></th>\n",
       "      <th>truck</th>\n",
       "      <th>loader</th>\n",
       "      <th>ton</th>\n",
       "      <th>n_shovel</th>\n",
       "      <th>truck_total_cycle</th>\n",
       "      <th>loader_total_cycle</th>\n",
       "      <th>distance_empty</th>\n",
       "      <th>distance_full</th>\n",
       "      <th>date</th>\n",
       "    </tr>\n",
       "  </thead>\n",
       "  <tbody>\n",
       "    <tr>\n",
       "      <th>0</th>\n",
       "      <td>CAEX56</td>\n",
       "      <td>PH06</td>\n",
       "      <td>299.682208</td>\n",
       "      <td>3.0</td>\n",
       "      <td>2158.0</td>\n",
       "      <td>315.0</td>\n",
       "      <td>4975.0</td>\n",
       "      <td>5191.0</td>\n",
       "      <td>2023-01-01</td>\n",
       "    </tr>\n",
       "    <tr>\n",
       "      <th>1</th>\n",
       "      <td>CAEX64</td>\n",
       "      <td>PH48</td>\n",
       "      <td>316.673117</td>\n",
       "      <td>3.0</td>\n",
       "      <td>1737.0</td>\n",
       "      <td>353.0</td>\n",
       "      <td>5152.0</td>\n",
       "      <td>4960.0</td>\n",
       "      <td>2023-01-01</td>\n",
       "    </tr>\n",
       "    <tr>\n",
       "      <th>2</th>\n",
       "      <td>CAEX41</td>\n",
       "      <td>PH06</td>\n",
       "      <td>340.529701</td>\n",
       "      <td>3.0</td>\n",
       "      <td>2210.0</td>\n",
       "      <td>388.0</td>\n",
       "      <td>5042.0</td>\n",
       "      <td>4859.0</td>\n",
       "      <td>2023-01-01</td>\n",
       "    </tr>\n",
       "    <tr>\n",
       "      <th>3</th>\n",
       "      <td>CAEX41</td>\n",
       "      <td>PH06</td>\n",
       "      <td>292.835476</td>\n",
       "      <td>3.0</td>\n",
       "      <td>2073.0</td>\n",
       "      <td>260.0</td>\n",
       "      <td>5005.0</td>\n",
       "      <td>4869.0</td>\n",
       "      <td>2023-01-01</td>\n",
       "    </tr>\n",
       "    <tr>\n",
       "      <th>4</th>\n",
       "      <td>CAEX71</td>\n",
       "      <td>PH06</td>\n",
       "      <td>337.056639</td>\n",
       "      <td>3.0</td>\n",
       "      <td>2346.0</td>\n",
       "      <td>148.0</td>\n",
       "      <td>5614.0</td>\n",
       "      <td>5289.0</td>\n",
       "      <td>2023-01-01</td>\n",
       "    </tr>\n",
       "    <tr>\n",
       "      <th>...</th>\n",
       "      <td>...</td>\n",
       "      <td>...</td>\n",
       "      <td>...</td>\n",
       "      <td>...</td>\n",
       "      <td>...</td>\n",
       "      <td>...</td>\n",
       "      <td>...</td>\n",
       "      <td>...</td>\n",
       "      <td>...</td>\n",
       "    </tr>\n",
       "    <tr>\n",
       "      <th>389788</th>\n",
       "      <td>CAEX22</td>\n",
       "      <td>PH58</td>\n",
       "      <td>320.327729</td>\n",
       "      <td>3.0</td>\n",
       "      <td>1976.0</td>\n",
       "      <td>320.0</td>\n",
       "      <td>1671.0</td>\n",
       "      <td>4884.0</td>\n",
       "      <td>2024-05-24</td>\n",
       "    </tr>\n",
       "    <tr>\n",
       "      <th>389789</th>\n",
       "      <td>CAEX30</td>\n",
       "      <td>PH48</td>\n",
       "      <td>274.369483</td>\n",
       "      <td>4.0</td>\n",
       "      <td>1826.0</td>\n",
       "      <td>275.0</td>\n",
       "      <td>4021.0</td>\n",
       "      <td>5000.0</td>\n",
       "      <td>2024-05-24</td>\n",
       "    </tr>\n",
       "    <tr>\n",
       "      <th>389790</th>\n",
       "      <td>CAEX37</td>\n",
       "      <td>PH58</td>\n",
       "      <td>319.958519</td>\n",
       "      <td>3.0</td>\n",
       "      <td>1834.0</td>\n",
       "      <td>268.0</td>\n",
       "      <td>4630.0</td>\n",
       "      <td>4882.0</td>\n",
       "      <td>2024-05-24</td>\n",
       "    </tr>\n",
       "    <tr>\n",
       "      <th>389791</th>\n",
       "      <td>CAEX08</td>\n",
       "      <td>PH55</td>\n",
       "      <td>296.690314</td>\n",
       "      <td>3.0</td>\n",
       "      <td>1729.0</td>\n",
       "      <td>318.0</td>\n",
       "      <td>3925.0</td>\n",
       "      <td>3941.0</td>\n",
       "      <td>2024-05-24</td>\n",
       "    </tr>\n",
       "    <tr>\n",
       "      <th>389792</th>\n",
       "      <td>CAEX23</td>\n",
       "      <td>PH55</td>\n",
       "      <td>281.644303</td>\n",
       "      <td>3.0</td>\n",
       "      <td>1986.0</td>\n",
       "      <td>305.0</td>\n",
       "      <td>4097.0</td>\n",
       "      <td>4072.0</td>\n",
       "      <td>2024-05-24</td>\n",
       "    </tr>\n",
       "  </tbody>\n",
       "</table>\n",
       "<p>389793 rows × 9 columns</p>\n",
       "</div>"
      ],
      "text/plain": [
       "         truck loader         ton  n_shovel  truck_total_cycle  \\\n",
       "0       CAEX56   PH06  299.682208       3.0             2158.0   \n",
       "1       CAEX64   PH48  316.673117       3.0             1737.0   \n",
       "2       CAEX41   PH06  340.529701       3.0             2210.0   \n",
       "3       CAEX41   PH06  292.835476       3.0             2073.0   \n",
       "4       CAEX71   PH06  337.056639       3.0             2346.0   \n",
       "...        ...    ...         ...       ...                ...   \n",
       "389788  CAEX22   PH58  320.327729       3.0             1976.0   \n",
       "389789  CAEX30   PH48  274.369483       4.0             1826.0   \n",
       "389790  CAEX37   PH58  319.958519       3.0             1834.0   \n",
       "389791  CAEX08   PH55  296.690314       3.0             1729.0   \n",
       "389792  CAEX23   PH55  281.644303       3.0             1986.0   \n",
       "\n",
       "        loader_total_cycle  distance_empty  distance_full        date  \n",
       "0                    315.0          4975.0         5191.0  2023-01-01  \n",
       "1                    353.0          5152.0         4960.0  2023-01-01  \n",
       "2                    388.0          5042.0         4859.0  2023-01-01  \n",
       "3                    260.0          5005.0         4869.0  2023-01-01  \n",
       "4                    148.0          5614.0         5289.0  2023-01-01  \n",
       "...                    ...             ...            ...         ...  \n",
       "389788               320.0          1671.0         4884.0  2024-05-24  \n",
       "389789               275.0          4021.0         5000.0  2024-05-24  \n",
       "389790               268.0          4630.0         4882.0  2024-05-24  \n",
       "389791               318.0          3925.0         3941.0  2024-05-24  \n",
       "389792               305.0          4097.0         4072.0  2024-05-24  \n",
       "\n",
       "[389793 rows x 9 columns]"
      ]
     },
     "execution_count": 358,
     "metadata": {},
     "output_type": "execute_result"
    }
   ],
   "source": [
    "#reordenamos nuestro daataset sin los outliers anteriores\n",
    "df_sin_out_tcycle = (df_pala['truck_total_cycle'] >= lim_inferior_tcycle) & (df_pala['truck_total_cycle'] <= lim_superior_tcycle)\n",
    "df_tcycle = df_pala[df_sin_out_tcycle].reset_index(drop=True)\n",
    "df_tcycle"
   ]
  },
  {
   "cell_type": "markdown",
   "metadata": {},
   "source": [
    "Revisamos  el boxplot y su estadistica descriptiva con los datos actualizados"
   ]
  },
  {
   "cell_type": "code",
   "execution_count": 359,
   "metadata": {},
   "outputs": [
    {
     "data": {
      "text/plain": [
       "count    389793.000000\n",
       "mean       2274.078988\n",
       "std         825.779020\n",
       "min          23.000000\n",
       "25%        1631.000000\n",
       "50%        2132.000000\n",
       "75%        2941.000000\n",
       "max        4922.000000\n",
       "Name: truck_total_cycle, dtype: float64"
      ]
     },
     "execution_count": 359,
     "metadata": {},
     "output_type": "execute_result"
    }
   ],
   "source": [
    "df_tcycle['truck_total_cycle'].describe()"
   ]
  },
  {
   "cell_type": "code",
   "execution_count": 360,
   "metadata": {},
   "outputs": [
    {
     "data": {
      "image/png": "[encoded data removed]",
      "text/plain": [
       "<Figure size 1000x500 with 1 Axes>"
      ]
     },
     "metadata": {},
     "output_type": "display_data"
    }
   ],
   "source": [
    "#Graficamos un boxplot para observar los outliers\n",
    "plt.figure(figsize=(10, 5))\n",
    "sns.boxplot(x=df_tcycle['truck_total_cycle']) \n",
    "plt.show()"
   ]
  },
  {
   "cell_type": "markdown",
   "metadata": {},
   "source": [
    "a partir de la estadistica descriptiva se puede ver que tenemos el valor mínimo como 0 y varios datos que están bajo los 1000 hasta los 0 segundos, lo cual nos generaría problemas a la hora de analizar. por esto, se presenta un histograma para ver el comportamiento en general de los datos de esta columna"
   ]
  },
  {
   "cell_type": "code",
   "execution_count": 361,
   "metadata": {},
   "outputs": [
    {
     "data": {
      "text/plain": [
       "<Axes: xlabel='truck_total_cycle', ylabel='Count'>"
      ]
     },
     "execution_count": 361,
     "metadata": {},
     "output_type": "execute_result"
    },
    {
     "data": {
      "image/png": "[encoded data removed]",
      "text/plain": [
       "<Figure size 640x480 with 1 Axes>"
      ]
     },
     "metadata": {},
     "output_type": "display_data"
    }
   ],
   "source": [
    "sns.histplot(x=df_tcycle['truck_total_cycle'])"
   ]
  },
  {
   "cell_type": "markdown",
   "metadata": {},
   "source": [
    "se puede ver que hay una cola con datos bajos los cuales los reemplazaremos por valores aleatorios entre el percentil 1 y la mediana de esta columna para no afectar ls distribución de los datos ya que anteriormente ya se eliminaron los datos átipicos/extremos"
   ]
  },
  {
   "cell_type": "code",
   "execution_count": 362,
   "metadata": {},
   "outputs": [
    {
     "name": "stdout",
     "output_type": "stream",
     "text": [
      "Percentil 1 (P1): 711.0\n",
      "Cantidad de valores bajo el percentil 1: 3888\n"
     ]
    }
   ],
   "source": [
    "# Calcular los percen\n",
    "p1_tcycle = df_tcycle['truck_total_cycle'].quantile(0.01)\n",
    "\n",
    "# Mostrar los resultados\n",
    "print(f\"Percentil 1 (P1): {p1_tcycle}\")\n",
    "\n",
    "#cantidad de valores bajo el p1\n",
    "print( f\"Cantidad de valores bajo el percentil 1:\", int((df_tcycle['truck_total_cycle'] < p1_tcycle).sum()))"
   ]
  },
  {
   "cell_type": "markdown",
   "metadata": {},
   "source": [
    "Ahora, teniendo el percentil 1 que corresponde a 711 segundos (11.85 minutos) por ende, las filas que posean valores de tiempo de ciclo de transporte menor a esto, serán reemplazados por valores aleatorios entre el percentil 1 y la mediana con el fin de no perder los datos y afectar nuestro análisis ya que se eliminarian 3888 datos."
   ]
  },
  {
   "cell_type": "code",
   "execution_count": 363,
   "metadata": {},
   "outputs": [],
   "source": [
    "#Calculamos la mediana para esta columna\n",
    "mediana_tcycle = df_tcycle['truck_total_cycle'].median()\n",
    "\n",
    "# Reemplazar valores por debajo del percentil 1\n",
    "df_tcycle['truck_total_cycle'] = np.where(df_tcycle['truck_total_cycle'] < p1_tcycle, \n",
    "                       np.random.uniform(p1_tcycle, mediana_tcycle, size=(len(df_tcycle['truck_total_cycle'] < p1_tcycle))), \n",
    "                       df_tcycle['truck_total_cycle'])"
   ]
  },
  {
   "cell_type": "markdown",
   "metadata": {},
   "source": [
    "ahora, volvemos a verificar si notenemos el mismo problema con valores bajos luego de haber realizado el reemplazo"
   ]
  },
  {
   "cell_type": "code",
   "execution_count": 364,
   "metadata": {},
   "outputs": [
    {
     "data": {
      "text/plain": [
       "count    389793.000000\n",
       "mean       2282.826773\n",
       "std         812.696739\n",
       "min         711.000000\n",
       "25%        1637.000000\n",
       "50%        2132.000000\n",
       "75%        2941.000000\n",
       "max        4922.000000\n",
       "Name: truck_total_cycle, dtype: float64"
      ]
     },
     "execution_count": 364,
     "metadata": {},
     "output_type": "execute_result"
    }
   ],
   "source": [
    "df_tcycle['truck_total_cycle'].describe()"
   ]
  },
  {
   "cell_type": "code",
   "execution_count": 365,
   "metadata": {},
   "outputs": [
    {
     "data": {
      "text/plain": [
       "<Axes: xlabel='truck_total_cycle', ylabel='Count'>"
      ]
     },
     "execution_count": 365,
     "metadata": {},
     "output_type": "execute_result"
    },
    {
     "data": {
      "image/png": "[encoded data removed]",
      "text/plain": [
       "<Figure size 640x480 with 1 Axes>"
      ]
     },
     "metadata": {},
     "output_type": "display_data"
    }
   ],
   "source": [
    "sns.histplot(x=df_tcycle['truck_total_cycle'])"
   ]
  },
  {
   "cell_type": "code",
   "execution_count": 366,
   "metadata": {},
   "outputs": [
    {
     "data": {
      "image/png": "[encoded data removed]",
      "text/plain": [
       "<Figure size 1000x500 with 1 Axes>"
      ]
     },
     "metadata": {},
     "output_type": "display_data"
    }
   ],
   "source": [
    "#Graficamos un boxplot para observar los outliers\n",
    "plt.figure(figsize=(10, 5))\n",
    "sns.boxplot(x=df_tcycle['truck_total_cycle']) \n",
    "plt.show()"
   ]
  },
  {
   "cell_type": "markdown",
   "metadata": {},
   "source": [
    "Ahora, al ver la estadistica descriptiva tenemos que el valor mínimo es de 711 segundos, el histograma no perdio su la forma que tenía antes de reemplazar los valores y el boxplot presenta solo valores atipicos en el extremo superior del gráfico pero sin contar con valores cercanos al 0."
   ]
  },
  {
   "cell_type": "markdown",
   "metadata": {},
   "source": [
    "------------------------------------"
   ]
  },
  {
   "cell_type": "markdown",
   "metadata": {},
   "source": [
    "### 4.1.4. Limpieza columna loader_total_cycle"
   ]
  },
  {
   "cell_type": "code",
   "execution_count": 367,
   "metadata": {},
   "outputs": [
    {
     "data": {
      "image/png": "[encoded data removed]",
      "text/plain": [
       "<Figure size 1000x500 with 1 Axes>"
      ]
     },
     "metadata": {},
     "output_type": "display_data"
    }
   ],
   "source": [
    "#Graficamos un boxplot para observar los outliers\n",
    "plt.figure(figsize=(10, 5))\n",
    "sns.boxplot(x=df_tcycle['loader_total_cycle']) \n",
    "plt.show()"
   ]
  },
  {
   "cell_type": "markdown",
   "metadata": {},
   "source": [
    "podemos ver que hay varios datos los cuales son considerados átipicos por lo que procedemos a utilizar el rango intercuantilico."
   ]
  },
  {
   "cell_type": "code",
   "execution_count": 368,
   "metadata": {},
   "outputs": [
    {
     "name": "stdout",
     "output_type": "stream",
     "text": [
      "{'loader_total_cycle': 1178}\n"
     ]
    }
   ],
   "source": [
    "#N° de outliers usando rango IQR\n",
    "outliers_lcycle = {}\n",
    "\n",
    "Q1_lcycle = np.percentile(df_tcycle['loader_total_cycle'], 25)\n",
    "Q3_lcycle = np.percentile(df_tcycle['loader_total_cycle'], 75)\n",
    "IQR_lcycle = Q3_lcycle - Q1_lcycle\n",
    "lim_inferior_lcycle = Q1_lcycle - 1.5 * IQR_lcycle\n",
    "lim_superior_lcycle = Q3_lcycle + 1.5 * IQR_lcycle\n",
    "outliers_lcycle['loader_total_cycle'] = int((df_tcycle['loader_total_cycle'] > lim_superior_lcycle).sum() + (df_tcycle['loader_total_cycle'] < lim_inferior_lcycle).sum())\n",
    "\n",
    "print(outliers_lcycle)"
   ]
  },
  {
   "cell_type": "code",
   "execution_count": 369,
   "metadata": {},
   "outputs": [
    {
     "data": {
      "text/html": [
       "<div>\n",
       "<style scoped>\n",
       "    .dataframe tbody tr th:only-of-type {\n",
       "        vertical-align: middle;\n",
       "    }\n",
       "\n",
       "    .dataframe tbody tr th {\n",
       "        vertical-align: top;\n",
       "    }\n",
       "\n",
       "    .dataframe thead th {\n",
       "        text-align: right;\n",
       "    }\n",
       "</style>\n",
       "<table border=\"1\" class=\"dataframe\">\n",
       "  <thead>\n",
       "    <tr style=\"text-align: right;\">\n",
       "      <th></th>\n",
       "      <th>truck</th>\n",
       "      <th>loader</th>\n",
       "      <th>ton</th>\n",
       "      <th>n_shovel</th>\n",
       "      <th>truck_total_cycle</th>\n",
       "      <th>loader_total_cycle</th>\n",
       "      <th>distance_empty</th>\n",
       "      <th>distance_full</th>\n",
       "      <th>date</th>\n",
       "    </tr>\n",
       "  </thead>\n",
       "  <tbody>\n",
       "    <tr>\n",
       "      <th>0</th>\n",
       "      <td>CAEX56</td>\n",
       "      <td>PH06</td>\n",
       "      <td>299.682208</td>\n",
       "      <td>3.0</td>\n",
       "      <td>2158.0</td>\n",
       "      <td>315.0</td>\n",
       "      <td>4975.0</td>\n",
       "      <td>5191.0</td>\n",
       "      <td>2023-01-01</td>\n",
       "    </tr>\n",
       "    <tr>\n",
       "      <th>1</th>\n",
       "      <td>CAEX64</td>\n",
       "      <td>PH48</td>\n",
       "      <td>316.673117</td>\n",
       "      <td>3.0</td>\n",
       "      <td>1737.0</td>\n",
       "      <td>353.0</td>\n",
       "      <td>5152.0</td>\n",
       "      <td>4960.0</td>\n",
       "      <td>2023-01-01</td>\n",
       "    </tr>\n",
       "    <tr>\n",
       "      <th>2</th>\n",
       "      <td>CAEX41</td>\n",
       "      <td>PH06</td>\n",
       "      <td>340.529701</td>\n",
       "      <td>3.0</td>\n",
       "      <td>2210.0</td>\n",
       "      <td>388.0</td>\n",
       "      <td>5042.0</td>\n",
       "      <td>4859.0</td>\n",
       "      <td>2023-01-01</td>\n",
       "    </tr>\n",
       "    <tr>\n",
       "      <th>3</th>\n",
       "      <td>CAEX41</td>\n",
       "      <td>PH06</td>\n",
       "      <td>292.835476</td>\n",
       "      <td>3.0</td>\n",
       "      <td>2073.0</td>\n",
       "      <td>260.0</td>\n",
       "      <td>5005.0</td>\n",
       "      <td>4869.0</td>\n",
       "      <td>2023-01-01</td>\n",
       "    </tr>\n",
       "    <tr>\n",
       "      <th>4</th>\n",
       "      <td>CAEX71</td>\n",
       "      <td>PH06</td>\n",
       "      <td>337.056639</td>\n",
       "      <td>3.0</td>\n",
       "      <td>2346.0</td>\n",
       "      <td>148.0</td>\n",
       "      <td>5614.0</td>\n",
       "      <td>5289.0</td>\n",
       "      <td>2023-01-01</td>\n",
       "    </tr>\n",
       "    <tr>\n",
       "      <th>...</th>\n",
       "      <td>...</td>\n",
       "      <td>...</td>\n",
       "      <td>...</td>\n",
       "      <td>...</td>\n",
       "      <td>...</td>\n",
       "      <td>...</td>\n",
       "      <td>...</td>\n",
       "      <td>...</td>\n",
       "      <td>...</td>\n",
       "    </tr>\n",
       "    <tr>\n",
       "      <th>388610</th>\n",
       "      <td>CAEX22</td>\n",
       "      <td>PH58</td>\n",
       "      <td>320.327729</td>\n",
       "      <td>3.0</td>\n",
       "      <td>1976.0</td>\n",
       "      <td>320.0</td>\n",
       "      <td>1671.0</td>\n",
       "      <td>4884.0</td>\n",
       "      <td>2024-05-24</td>\n",
       "    </tr>\n",
       "    <tr>\n",
       "      <th>388611</th>\n",
       "      <td>CAEX30</td>\n",
       "      <td>PH48</td>\n",
       "      <td>274.369483</td>\n",
       "      <td>4.0</td>\n",
       "      <td>1826.0</td>\n",
       "      <td>275.0</td>\n",
       "      <td>4021.0</td>\n",
       "      <td>5000.0</td>\n",
       "      <td>2024-05-24</td>\n",
       "    </tr>\n",
       "    <tr>\n",
       "      <th>388612</th>\n",
       "      <td>CAEX37</td>\n",
       "      <td>PH58</td>\n",
       "      <td>319.958519</td>\n",
       "      <td>3.0</td>\n",
       "      <td>1834.0</td>\n",
       "      <td>268.0</td>\n",
       "      <td>4630.0</td>\n",
       "      <td>4882.0</td>\n",
       "      <td>2024-05-24</td>\n",
       "    </tr>\n",
       "    <tr>\n",
       "      <th>388613</th>\n",
       "      <td>CAEX08</td>\n",
       "      <td>PH55</td>\n",
       "      <td>296.690314</td>\n",
       "      <td>3.0</td>\n",
       "      <td>1729.0</td>\n",
       "      <td>318.0</td>\n",
       "      <td>3925.0</td>\n",
       "      <td>3941.0</td>\n",
       "      <td>2024-05-24</td>\n",
       "    </tr>\n",
       "    <tr>\n",
       "      <th>388614</th>\n",
       "      <td>CAEX23</td>\n",
       "      <td>PH55</td>\n",
       "      <td>281.644303</td>\n",
       "      <td>3.0</td>\n",
       "      <td>1986.0</td>\n",
       "      <td>305.0</td>\n",
       "      <td>4097.0</td>\n",
       "      <td>4072.0</td>\n",
       "      <td>2024-05-24</td>\n",
       "    </tr>\n",
       "  </tbody>\n",
       "</table>\n",
       "<p>388615 rows × 9 columns</p>\n",
       "</div>"
      ],
      "text/plain": [
       "         truck loader         ton  n_shovel  truck_total_cycle  \\\n",
       "0       CAEX56   PH06  299.682208       3.0             2158.0   \n",
       "1       CAEX64   PH48  316.673117       3.0             1737.0   \n",
       "2       CAEX41   PH06  340.529701       3.0             2210.0   \n",
       "3       CAEX41   PH06  292.835476       3.0             2073.0   \n",
       "4       CAEX71   PH06  337.056639       3.0             2346.0   \n",
       "...        ...    ...         ...       ...                ...   \n",
       "388610  CAEX22   PH58  320.327729       3.0             1976.0   \n",
       "388611  CAEX30   PH48  274.369483       4.0             1826.0   \n",
       "388612  CAEX37   PH58  319.958519       3.0             1834.0   \n",
       "388613  CAEX08   PH55  296.690314       3.0             1729.0   \n",
       "388614  CAEX23   PH55  281.644303       3.0             1986.0   \n",
       "\n",
       "        loader_total_cycle  distance_empty  distance_full        date  \n",
       "0                    315.0          4975.0         5191.0  2023-01-01  \n",
       "1                    353.0          5152.0         4960.0  2023-01-01  \n",
       "2                    388.0          5042.0         4859.0  2023-01-01  \n",
       "3                    260.0          5005.0         4869.0  2023-01-01  \n",
       "4                    148.0          5614.0         5289.0  2023-01-01  \n",
       "...                    ...             ...            ...         ...  \n",
       "388610               320.0          1671.0         4884.0  2024-05-24  \n",
       "388611               275.0          4021.0         5000.0  2024-05-24  \n",
       "388612               268.0          4630.0         4882.0  2024-05-24  \n",
       "388613               318.0          3925.0         3941.0  2024-05-24  \n",
       "388614               305.0          4097.0         4072.0  2024-05-24  \n",
       "\n",
       "[388615 rows x 9 columns]"
      ]
     },
     "execution_count": 369,
     "metadata": {},
     "output_type": "execute_result"
    }
   ],
   "source": [
    "#reordenamos nuestro daataset sin los outliers anteriores\n",
    "df_sin_out_lcycle = (df_tcycle['loader_total_cycle'] >= lim_inferior_lcycle) & (df_tcycle['loader_total_cycle'] <= lim_superior_lcycle)\n",
    "df_lcycle = df_tcycle[df_sin_out_lcycle].reset_index(drop=True) \n",
    "df_lcycle"
   ]
  },
  {
   "cell_type": "markdown",
   "metadata": {},
   "source": [
    "Ahora revisamos la estadistica descriptiva y el boxplot actualizado"
   ]
  },
  {
   "cell_type": "code",
   "execution_count": 370,
   "metadata": {},
   "outputs": [
    {
     "data": {
      "text/plain": [
       "count    388615.000000\n",
       "mean        302.494026\n",
       "std         110.024436\n",
       "min           0.000000\n",
       "25%         216.000000\n",
       "50%         302.000000\n",
       "75%         388.000000\n",
       "max         647.000000\n",
       "Name: loader_total_cycle, dtype: float64"
      ]
     },
     "execution_count": 370,
     "metadata": {},
     "output_type": "execute_result"
    }
   ],
   "source": [
    "df_lcycle['loader_total_cycle'].describe()"
   ]
  },
  {
   "cell_type": "code",
   "execution_count": 371,
   "metadata": {},
   "outputs": [
    {
     "data": {
      "image/png": "[encoded data removed]",
      "text/plain": [
       "<Figure size 1000x500 with 1 Axes>"
      ]
     },
     "metadata": {},
     "output_type": "display_data"
    }
   ],
   "source": [
    "#Graficamos un boxplot para observar los outliers\n",
    "plt.figure(figsize=(10, 5))\n",
    "sns.boxplot(x=df_lcycle['loader_total_cycle']) \n",
    "plt.show()"
   ]
  },
  {
   "cell_type": "markdown",
   "metadata": {},
   "source": [
    "con los datos actualizados, se observa que se tiene un valor mínimo de 0 y del gráfico tenemos varios datos bajolos 100 segundos los cuales algunos pueden no representar la realidad del carguio. Para esto, se presenta un gráfico de histograma y poder analizar de una mejor manera este caso"
   ]
  },
  {
   "cell_type": "code",
   "execution_count": 372,
   "metadata": {},
   "outputs": [
    {
     "data": {
      "text/plain": [
       "<Axes: xlabel='loader_total_cycle', ylabel='Count'>"
      ]
     },
     "execution_count": 372,
     "metadata": {},
     "output_type": "execute_result"
    },
    {
     "data": {
      "image/png": "[encoded data removed]",
      "text/plain": [
       "<Figure size 640x480 with 1 Axes>"
      ]
     },
     "metadata": {},
     "output_type": "display_data"
    }
   ],
   "source": [
    "sns.histplot(x=df_lcycle['loader_total_cycle'])"
   ]
  },
  {
   "cell_type": "markdown",
   "metadata": {},
   "source": [
    "del histrograma podemos ver que se tiene una distribución normal lo cual podría ser cierto, si es que los datos no estuviesen tan cerca del 0. Por ende, se utilizará el percentil 1 y la mediana con el fin de reemplazar valores que no sean bajos."
   ]
  },
  {
   "cell_type": "code",
   "execution_count": 373,
   "metadata": {},
   "outputs": [
    {
     "name": "stdout",
     "output_type": "stream",
     "text": [
      "Percentil 1 (P1): 75.0\n",
      "Cantidad de bajos bajo el percentil 1: 3847\n"
     ]
    }
   ],
   "source": [
    "# Calcular los percen\n",
    "p1_lcycle = df_lcycle['loader_total_cycle'].quantile(0.01)\n",
    "\n",
    "# Mostrar los resultados\n",
    "print(f\"Percentil 1 (P1): {p1_lcycle}\")\n",
    "\n",
    "#cantidad de valores bajo el p1\n",
    "print( f\"Cantidad de bajos bajo el percentil 1:\", int((df_lcycle['loader_total_cycle'] < p1_lcycle).sum()))"
   ]
  },
  {
   "cell_type": "markdown",
   "metadata": {},
   "source": [
    "Ahora, teniendo el percentil 1 que corresponde a 77 segundos (1.6833... minutos) haremos que las filas que posean valores de tiempo de ciclo de carga menor a esto, serán reemplazados por valores aleatorios entre el percentil 1 y la mediana con el fin de no perder los datos y afectar nuestro análisis ya que se eliminarian 3733 datos."
   ]
  },
  {
   "cell_type": "code",
   "execution_count": 374,
   "metadata": {},
   "outputs": [],
   "source": [
    "#Calculamos la mediana para esta columna\n",
    "mediana_lcycle = df_lcycle['loader_total_cycle'].median()\n",
    "\n",
    "# Reemplazar valores por debajo del percentil 1\n",
    "df_lcycle['loader_total_cycle'] = np.where(df_lcycle['loader_total_cycle'] < p1_lcycle, \n",
    "                       np.random.uniform(p1_lcycle, mediana_lcycle, size=(len(df_lcycle['loader_total_cycle'] < p1_lcycle))), \n",
    "                       df_lcycle['loader_total_cycle'])"
   ]
  },
  {
   "cell_type": "markdown",
   "metadata": {},
   "source": [
    "ahora, volvemos a verificar la estadistica descriptiva, histograma y el grafico de boxplot"
   ]
  },
  {
   "cell_type": "code",
   "execution_count": 375,
   "metadata": {},
   "outputs": [
    {
     "data": {
      "text/plain": [
       "count    388615.000000\n",
       "mean        303.911566\n",
       "std         107.790206\n",
       "min          75.000000\n",
       "25%         218.000000\n",
       "50%         302.000000\n",
       "75%         388.000000\n",
       "max         647.000000\n",
       "Name: loader_total_cycle, dtype: float64"
      ]
     },
     "execution_count": 375,
     "metadata": {},
     "output_type": "execute_result"
    }
   ],
   "source": [
    "df_lcycle['loader_total_cycle'].describe()"
   ]
  },
  {
   "cell_type": "code",
   "execution_count": 376,
   "metadata": {},
   "outputs": [
    {
     "data": {
      "text/plain": [
       "<Axes: xlabel='loader_total_cycle', ylabel='Count'>"
      ]
     },
     "execution_count": 376,
     "metadata": {},
     "output_type": "execute_result"
    },
    {
     "data": {
      "image/png": "[encoded data removed]",
      "text/plain": [
       "<Figure size 640x480 with 1 Axes>"
      ]
     },
     "metadata": {},
     "output_type": "display_data"
    }
   ],
   "source": [
    "sns.histplot(x=df_lcycle['loader_total_cycle'])"
   ]
  },
  {
   "cell_type": "code",
   "execution_count": 377,
   "metadata": {},
   "outputs": [
    {
     "data": {
      "image/png": "[encoded data removed]",
      "text/plain": [
       "<Figure size 1000x500 with 1 Axes>"
      ]
     },
     "metadata": {},
     "output_type": "display_data"
    }
   ],
   "source": [
    "#Graficamos un boxplot para observar los outliers\n",
    "plt.figure(figsize=(10, 5))\n",
    "sns.boxplot(x=df_lcycle['loader_total_cycle']) \n",
    "plt.show()"
   ]
  },
  {
   "cell_type": "markdown",
   "metadata": {},
   "source": [
    "apreciamos que el dato mínimo es de 77 segundos, el histograma no se ve afectado por el cambio que se realizó solamente su cola hacia el cero (era, lo que se buscaba) y el boxplot presenta los valores átpicos solamente en su extremo superior, lo cual los utilizarémos para analizar casos muy extremos hacia arriba."
   ]
  },
  {
   "cell_type": "markdown",
   "metadata": {},
   "source": [
    "---------------------------------------------------------------------------"
   ]
  },
  {
   "cell_type": "markdown",
   "metadata": {},
   "source": [
    "### 4.1.5.Limpieza columna distance_empty"
   ]
  },
  {
   "cell_type": "code",
   "execution_count": 378,
   "metadata": {},
   "outputs": [
    {
     "data": {
      "image/png": "[encoded data removed]",
      "text/plain": [
       "<Figure size 1000x500 with 1 Axes>"
      ]
     },
     "metadata": {},
     "output_type": "display_data"
    }
   ],
   "source": [
    "#Graficamos un boxplot para observar los outliers\n",
    "plt.figure(figsize=(10, 5))\n",
    "sns.boxplot(x=df_lcycle['distance_empty']) \n",
    "plt.show()"
   ]
  },
  {
   "cell_type": "markdown",
   "metadata": {},
   "source": [
    "Del grafico podemos ver que hay varios datos que están fuera del extremo derecho, por lo que utilizarémos el rango intercuartílico"
   ]
  },
  {
   "cell_type": "code",
   "execution_count": 379,
   "metadata": {},
   "outputs": [
    {
     "data": {
      "text/plain": [
       "{'distance_empty': 1932}"
      ]
     },
     "execution_count": 379,
     "metadata": {},
     "output_type": "execute_result"
    }
   ],
   "source": [
    "#N° de outliers usando rango IQR\n",
    "outliers_dempty = {}\n",
    "\n",
    "Q1_dempty = np.percentile(df_lcycle['distance_empty'], 25)\n",
    "Q3_dempty = np.percentile(df_lcycle['distance_empty'], 75)\n",
    "IQR_dempty = Q3_dempty - Q1_dempty\n",
    "lim_inferior_dempty = Q1_dempty - 1.5 * IQR_dempty\n",
    "lim_superior_dempty = Q3_dempty + 1.5 * IQR_dempty\n",
    "outliers_dempty['distance_empty'] = int((df_lcycle['distance_empty'] > lim_superior_dempty).sum() + (df_lcycle['distance_empty'] < lim_inferior_dempty).sum())\n",
    "\n",
    "outliers_dempty"
   ]
  },
  {
   "cell_type": "code",
   "execution_count": 380,
   "metadata": {},
   "outputs": [
    {
     "data": {
      "text/html": [
       "<div>\n",
       "<style scoped>\n",
       "    .dataframe tbody tr th:only-of-type {\n",
       "        vertical-align: middle;\n",
       "    }\n",
       "\n",
       "    .dataframe tbody tr th {\n",
       "        vertical-align: top;\n",
       "    }\n",
       "\n",
       "    .dataframe thead th {\n",
       "        text-align: right;\n",
       "    }\n",
       "</style>\n",
       "<table border=\"1\" class=\"dataframe\">\n",
       "  <thead>\n",
       "    <tr style=\"text-align: right;\">\n",
       "      <th></th>\n",
       "      <th>truck</th>\n",
       "      <th>loader</th>\n",
       "      <th>ton</th>\n",
       "      <th>n_shovel</th>\n",
       "      <th>truck_total_cycle</th>\n",
       "      <th>loader_total_cycle</th>\n",
       "      <th>distance_empty</th>\n",
       "      <th>distance_full</th>\n",
       "      <th>date</th>\n",
       "    </tr>\n",
       "  </thead>\n",
       "  <tbody>\n",
       "    <tr>\n",
       "      <th>223949</th>\n",
       "      <td>CAEX85</td>\n",
       "      <td>PH58</td>\n",
       "      <td>319.363233</td>\n",
       "      <td>3.0</td>\n",
       "      <td>2858.0</td>\n",
       "      <td>149.0</td>\n",
       "      <td>14255.0</td>\n",
       "      <td>8886.0</td>\n",
       "      <td>2023-11-25</td>\n",
       "    </tr>\n",
       "    <tr>\n",
       "      <th>25892</th>\n",
       "      <td>CAEX23</td>\n",
       "      <td>PH48</td>\n",
       "      <td>345.305491</td>\n",
       "      <td>3.0</td>\n",
       "      <td>2786.0</td>\n",
       "      <td>146.0</td>\n",
       "      <td>14256.0</td>\n",
       "      <td>3770.0</td>\n",
       "      <td>2023-02-11</td>\n",
       "    </tr>\n",
       "    <tr>\n",
       "      <th>232073</th>\n",
       "      <td>CAEX44</td>\n",
       "      <td>PH06</td>\n",
       "      <td>349.130717</td>\n",
       "      <td>4.0</td>\n",
       "      <td>2645.0</td>\n",
       "      <td>202.0</td>\n",
       "      <td>14256.0</td>\n",
       "      <td>3113.0</td>\n",
       "      <td>2023-12-03</td>\n",
       "    </tr>\n",
       "    <tr>\n",
       "      <th>171911</th>\n",
       "      <td>CAEX25</td>\n",
       "      <td>PH48</td>\n",
       "      <td>338.461599</td>\n",
       "      <td>3.0</td>\n",
       "      <td>3579.0</td>\n",
       "      <td>409.0</td>\n",
       "      <td>14256.0</td>\n",
       "      <td>7944.0</td>\n",
       "      <td>2023-09-20</td>\n",
       "    </tr>\n",
       "    <tr>\n",
       "      <th>172171</th>\n",
       "      <td>CAEX13</td>\n",
       "      <td>PH48</td>\n",
       "      <td>319.086429</td>\n",
       "      <td>3.0</td>\n",
       "      <td>3512.0</td>\n",
       "      <td>398.0</td>\n",
       "      <td>14256.0</td>\n",
       "      <td>7737.0</td>\n",
       "      <td>2023-09-20</td>\n",
       "    </tr>\n",
       "    <tr>\n",
       "      <th>...</th>\n",
       "      <td>...</td>\n",
       "      <td>...</td>\n",
       "      <td>...</td>\n",
       "      <td>...</td>\n",
       "      <td>...</td>\n",
       "      <td>...</td>\n",
       "      <td>...</td>\n",
       "      <td>...</td>\n",
       "      <td>...</td>\n",
       "    </tr>\n",
       "    <tr>\n",
       "      <th>59932</th>\n",
       "      <td>CAEX37</td>\n",
       "      <td>PH58</td>\n",
       "      <td>334.181749</td>\n",
       "      <td>4.0</td>\n",
       "      <td>3074.0</td>\n",
       "      <td>262.0</td>\n",
       "      <td>15758.0</td>\n",
       "      <td>7565.0</td>\n",
       "      <td>2023-03-31</td>\n",
       "    </tr>\n",
       "    <tr>\n",
       "      <th>181577</th>\n",
       "      <td>CAEX98</td>\n",
       "      <td>PH58</td>\n",
       "      <td>331.204743</td>\n",
       "      <td>3.0</td>\n",
       "      <td>3108.0</td>\n",
       "      <td>355.0</td>\n",
       "      <td>15768.0</td>\n",
       "      <td>7291.0</td>\n",
       "      <td>2023-10-05</td>\n",
       "    </tr>\n",
       "    <tr>\n",
       "      <th>139934</th>\n",
       "      <td>CAEX93</td>\n",
       "      <td>PH48</td>\n",
       "      <td>295.125581</td>\n",
       "      <td>3.0</td>\n",
       "      <td>4440.0</td>\n",
       "      <td>380.0</td>\n",
       "      <td>15771.0</td>\n",
       "      <td>8767.0</td>\n",
       "      <td>2023-07-27</td>\n",
       "    </tr>\n",
       "    <tr>\n",
       "      <th>82270</th>\n",
       "      <td>CAEX81</td>\n",
       "      <td>PH48</td>\n",
       "      <td>312.806754</td>\n",
       "      <td>3.0</td>\n",
       "      <td>2423.0</td>\n",
       "      <td>418.0</td>\n",
       "      <td>15782.0</td>\n",
       "      <td>10747.0</td>\n",
       "      <td>2023-05-02</td>\n",
       "    </tr>\n",
       "    <tr>\n",
       "      <th>105430</th>\n",
       "      <td>CAEX39</td>\n",
       "      <td>PH48</td>\n",
       "      <td>317.723250</td>\n",
       "      <td>3.0</td>\n",
       "      <td>2196.0</td>\n",
       "      <td>304.0</td>\n",
       "      <td>15783.0</td>\n",
       "      <td>7834.0</td>\n",
       "      <td>2023-06-04</td>\n",
       "    </tr>\n",
       "  </tbody>\n",
       "</table>\n",
       "<p>1932 rows × 9 columns</p>\n",
       "</div>"
      ],
      "text/plain": [
       "         truck loader         ton  n_shovel  truck_total_cycle  \\\n",
       "223949  CAEX85   PH58  319.363233       3.0             2858.0   \n",
       "25892   CAEX23   PH48  345.305491       3.0             2786.0   \n",
       "232073  CAEX44   PH06  349.130717       4.0             2645.0   \n",
       "171911  CAEX25   PH48  338.461599       3.0             3579.0   \n",
       "172171  CAEX13   PH48  319.086429       3.0             3512.0   \n",
       "...        ...    ...         ...       ...                ...   \n",
       "59932   CAEX37   PH58  334.181749       4.0             3074.0   \n",
       "181577  CAEX98   PH58  331.204743       3.0             3108.0   \n",
       "139934  CAEX93   PH48  295.125581       3.0             4440.0   \n",
       "82270   CAEX81   PH48  312.806754       3.0             2423.0   \n",
       "105430  CAEX39   PH48  317.723250       3.0             2196.0   \n",
       "\n",
       "        loader_total_cycle  distance_empty  distance_full        date  \n",
       "223949               149.0         14255.0         8886.0  2023-11-25  \n",
       "25892                146.0         14256.0         3770.0  2023-02-11  \n",
       "232073               202.0         14256.0         3113.0  2023-12-03  \n",
       "171911               409.0         14256.0         7944.0  2023-09-20  \n",
       "172171               398.0         14256.0         7737.0  2023-09-20  \n",
       "...                    ...             ...            ...         ...  \n",
       "59932                262.0         15758.0         7565.0  2023-03-31  \n",
       "181577               355.0         15768.0         7291.0  2023-10-05  \n",
       "139934               380.0         15771.0         8767.0  2023-07-27  \n",
       "82270                418.0         15782.0        10747.0  2023-05-02  \n",
       "105430               304.0         15783.0         7834.0  2023-06-04  \n",
       "\n",
       "[1932 rows x 9 columns]"
      ]
     },
     "execution_count": 380,
     "metadata": {},
     "output_type": "execute_result"
    }
   ],
   "source": [
    "#Vemos las filas que son consideradas outliers dada la distancia recorrida del camión vacío de menor a mayor\n",
    "ubicacion_outliers_dempty = (df_lcycle['distance_empty'] < lim_inferior_dempty) | (df_lcycle['distance_empty'] > lim_superior_dempty)\n",
    "df_lcycle[ubicacion_outliers_dempty].sort_values('distance_empty')"
   ]
  },
  {
   "cell_type": "code",
   "execution_count": 381,
   "metadata": {},
   "outputs": [
    {
     "data": {
      "text/html": [
       "<div>\n",
       "<style scoped>\n",
       "    .dataframe tbody tr th:only-of-type {\n",
       "        vertical-align: middle;\n",
       "    }\n",
       "\n",
       "    .dataframe tbody tr th {\n",
       "        vertical-align: top;\n",
       "    }\n",
       "\n",
       "    .dataframe thead th {\n",
       "        text-align: right;\n",
       "    }\n",
       "</style>\n",
       "<table border=\"1\" class=\"dataframe\">\n",
       "  <thead>\n",
       "    <tr style=\"text-align: right;\">\n",
       "      <th></th>\n",
       "      <th>truck</th>\n",
       "      <th>loader</th>\n",
       "      <th>ton</th>\n",
       "      <th>n_shovel</th>\n",
       "      <th>truck_total_cycle</th>\n",
       "      <th>loader_total_cycle</th>\n",
       "      <th>distance_empty</th>\n",
       "      <th>distance_full</th>\n",
       "      <th>date</th>\n",
       "    </tr>\n",
       "  </thead>\n",
       "  <tbody>\n",
       "    <tr>\n",
       "      <th>0</th>\n",
       "      <td>CAEX56</td>\n",
       "      <td>PH06</td>\n",
       "      <td>299.682208</td>\n",
       "      <td>3.0</td>\n",
       "      <td>2158.0</td>\n",
       "      <td>315.0</td>\n",
       "      <td>4975.0</td>\n",
       "      <td>5191.0</td>\n",
       "      <td>2023-01-01</td>\n",
       "    </tr>\n",
       "    <tr>\n",
       "      <th>1</th>\n",
       "      <td>CAEX64</td>\n",
       "      <td>PH48</td>\n",
       "      <td>316.673117</td>\n",
       "      <td>3.0</td>\n",
       "      <td>1737.0</td>\n",
       "      <td>353.0</td>\n",
       "      <td>5152.0</td>\n",
       "      <td>4960.0</td>\n",
       "      <td>2023-01-01</td>\n",
       "    </tr>\n",
       "    <tr>\n",
       "      <th>2</th>\n",
       "      <td>CAEX41</td>\n",
       "      <td>PH06</td>\n",
       "      <td>340.529701</td>\n",
       "      <td>3.0</td>\n",
       "      <td>2210.0</td>\n",
       "      <td>388.0</td>\n",
       "      <td>5042.0</td>\n",
       "      <td>4859.0</td>\n",
       "      <td>2023-01-01</td>\n",
       "    </tr>\n",
       "    <tr>\n",
       "      <th>3</th>\n",
       "      <td>CAEX41</td>\n",
       "      <td>PH06</td>\n",
       "      <td>292.835476</td>\n",
       "      <td>3.0</td>\n",
       "      <td>2073.0</td>\n",
       "      <td>260.0</td>\n",
       "      <td>5005.0</td>\n",
       "      <td>4869.0</td>\n",
       "      <td>2023-01-01</td>\n",
       "    </tr>\n",
       "    <tr>\n",
       "      <th>4</th>\n",
       "      <td>CAEX71</td>\n",
       "      <td>PH06</td>\n",
       "      <td>337.056639</td>\n",
       "      <td>3.0</td>\n",
       "      <td>2346.0</td>\n",
       "      <td>148.0</td>\n",
       "      <td>5614.0</td>\n",
       "      <td>5289.0</td>\n",
       "      <td>2023-01-01</td>\n",
       "    </tr>\n",
       "    <tr>\n",
       "      <th>...</th>\n",
       "      <td>...</td>\n",
       "      <td>...</td>\n",
       "      <td>...</td>\n",
       "      <td>...</td>\n",
       "      <td>...</td>\n",
       "      <td>...</td>\n",
       "      <td>...</td>\n",
       "      <td>...</td>\n",
       "      <td>...</td>\n",
       "    </tr>\n",
       "    <tr>\n",
       "      <th>386678</th>\n",
       "      <td>CAEX22</td>\n",
       "      <td>PH58</td>\n",
       "      <td>320.327729</td>\n",
       "      <td>3.0</td>\n",
       "      <td>1976.0</td>\n",
       "      <td>320.0</td>\n",
       "      <td>1671.0</td>\n",
       "      <td>4884.0</td>\n",
       "      <td>2024-05-24</td>\n",
       "    </tr>\n",
       "    <tr>\n",
       "      <th>386679</th>\n",
       "      <td>CAEX30</td>\n",
       "      <td>PH48</td>\n",
       "      <td>274.369483</td>\n",
       "      <td>4.0</td>\n",
       "      <td>1826.0</td>\n",
       "      <td>275.0</td>\n",
       "      <td>4021.0</td>\n",
       "      <td>5000.0</td>\n",
       "      <td>2024-05-24</td>\n",
       "    </tr>\n",
       "    <tr>\n",
       "      <th>386680</th>\n",
       "      <td>CAEX37</td>\n",
       "      <td>PH58</td>\n",
       "      <td>319.958519</td>\n",
       "      <td>3.0</td>\n",
       "      <td>1834.0</td>\n",
       "      <td>268.0</td>\n",
       "      <td>4630.0</td>\n",
       "      <td>4882.0</td>\n",
       "      <td>2024-05-24</td>\n",
       "    </tr>\n",
       "    <tr>\n",
       "      <th>386681</th>\n",
       "      <td>CAEX08</td>\n",
       "      <td>PH55</td>\n",
       "      <td>296.690314</td>\n",
       "      <td>3.0</td>\n",
       "      <td>1729.0</td>\n",
       "      <td>318.0</td>\n",
       "      <td>3925.0</td>\n",
       "      <td>3941.0</td>\n",
       "      <td>2024-05-24</td>\n",
       "    </tr>\n",
       "    <tr>\n",
       "      <th>386682</th>\n",
       "      <td>CAEX23</td>\n",
       "      <td>PH55</td>\n",
       "      <td>281.644303</td>\n",
       "      <td>3.0</td>\n",
       "      <td>1986.0</td>\n",
       "      <td>305.0</td>\n",
       "      <td>4097.0</td>\n",
       "      <td>4072.0</td>\n",
       "      <td>2024-05-24</td>\n",
       "    </tr>\n",
       "  </tbody>\n",
       "</table>\n",
       "<p>386683 rows × 9 columns</p>\n",
       "</div>"
      ],
      "text/plain": [
       "         truck loader         ton  n_shovel  truck_total_cycle  \\\n",
       "0       CAEX56   PH06  299.682208       3.0             2158.0   \n",
       "1       CAEX64   PH48  316.673117       3.0             1737.0   \n",
       "2       CAEX41   PH06  340.529701       3.0             2210.0   \n",
       "3       CAEX41   PH06  292.835476       3.0             2073.0   \n",
       "4       CAEX71   PH06  337.056639       3.0             2346.0   \n",
       "...        ...    ...         ...       ...                ...   \n",
       "386678  CAEX22   PH58  320.327729       3.0             1976.0   \n",
       "386679  CAEX30   PH48  274.369483       4.0             1826.0   \n",
       "386680  CAEX37   PH58  319.958519       3.0             1834.0   \n",
       "386681  CAEX08   PH55  296.690314       3.0             1729.0   \n",
       "386682  CAEX23   PH55  281.644303       3.0             1986.0   \n",
       "\n",
       "        loader_total_cycle  distance_empty  distance_full        date  \n",
       "0                    315.0          4975.0         5191.0  2023-01-01  \n",
       "1                    353.0          5152.0         4960.0  2023-01-01  \n",
       "2                    388.0          5042.0         4859.0  2023-01-01  \n",
       "3                    260.0          5005.0         4869.0  2023-01-01  \n",
       "4                    148.0          5614.0         5289.0  2023-01-01  \n",
       "...                    ...             ...            ...         ...  \n",
       "386678               320.0          1671.0         4884.0  2024-05-24  \n",
       "386679               275.0          4021.0         5000.0  2024-05-24  \n",
       "386680               268.0          4630.0         4882.0  2024-05-24  \n",
       "386681               318.0          3925.0         3941.0  2024-05-24  \n",
       "386682               305.0          4097.0         4072.0  2024-05-24  \n",
       "\n",
       "[386683 rows x 9 columns]"
      ]
     },
     "execution_count": 381,
     "metadata": {},
     "output_type": "execute_result"
    }
   ],
   "source": [
    "#reordenamos nuestro daataset sin los outliers anteriores\n",
    "df_sin_out_dempty = (df_lcycle['distance_empty'] >= lim_inferior_dempty) & (df_lcycle['distance_empty'] <= lim_superior_dempty)\n",
    "df_dempty = df_lcycle[df_sin_out_dempty].reset_index(drop=True) \n",
    "df_dempty"
   ]
  },
  {
   "cell_type": "code",
   "execution_count": 382,
   "metadata": {},
   "outputs": [
    {
     "data": {
      "text/plain": [
       "<Axes: xlabel='distance_empty', ylabel='Count'>"
      ]
     },
     "execution_count": 382,
     "metadata": {},
     "output_type": "execute_result"
    },
    {
     "data": {
      "image/png": "[encoded data removed]",
      "text/plain": [
       "<Figure size 640x480 with 1 Axes>"
      ]
     },
     "metadata": {},
     "output_type": "display_data"
    }
   ],
   "source": [
    "sns.histplot(x=df_dempty['distance_empty'])"
   ]
  },
  {
   "cell_type": "markdown",
   "metadata": {},
   "source": [
    "revisamos por ultima vez la estadistica descriptiva y el grafico de boxplot para verificar"
   ]
  },
  {
   "cell_type": "code",
   "execution_count": 383,
   "metadata": {},
   "outputs": [
    {
     "data": {
      "text/plain": [
       "count    386683.000000\n",
       "mean       6121.544694\n",
       "std        2497.155294\n",
       "min         512.000000\n",
       "25%        3924.000000\n",
       "50%        5998.000000\n",
       "75%        8044.000000\n",
       "max       14254.000000\n",
       "Name: distance_empty, dtype: float64"
      ]
     },
     "execution_count": 383,
     "metadata": {},
     "output_type": "execute_result"
    }
   ],
   "source": [
    "df_dempty['distance_empty'].describe()"
   ]
  },
  {
   "cell_type": "code",
   "execution_count": 384,
   "metadata": {},
   "outputs": [
    {
     "data": {
      "image/png": "[encoded data removed]",
      "text/plain": [
       "<Figure size 1000x500 with 1 Axes>"
      ]
     },
     "metadata": {},
     "output_type": "display_data"
    }
   ],
   "source": [
    "#Graficamos un boxplot para observar los outliers\n",
    "plt.figure(figsize=(10, 5))\n",
    "sns.boxplot(x=df_dempty['distance_empty']) \n",
    "plt.show()"
   ]
  },
  {
   "cell_type": "markdown",
   "metadata": {},
   "source": [
    "En este caso podemos ver que la estadistica descriptiva el valor mínimo sigue siendo el mismo pero, el valor máximo disminuyo de aproximadamente 16000 a 14200 aproximadamente al haber eliminado 1932 filas.\n",
    "\n",
    "Aceptaremos estos valores, considerando que es posible que hayan casos en que las rutas sean bastante más cortas en comparados a otros y casos muy altos donde se pueda ver el efecto de una mala optimización de ruta y/o problemas que se puedan haber generado en el transporte."
   ]
  },
  {
   "cell_type": "markdown",
   "metadata": {},
   "source": [
    "### 4.1.6. Limpieza columna distance_full"
   ]
  },
  {
   "cell_type": "code",
   "execution_count": 385,
   "metadata": {},
   "outputs": [
    {
     "data": {
      "image/png": "[encoded data removed]",
      "text/plain": [
       "<Figure size 1000x500 with 1 Axes>"
      ]
     },
     "metadata": {},
     "output_type": "display_data"
    }
   ],
   "source": [
    "#Graficamos un boxplot para observar los outliers\n",
    "plt.figure(figsize=(10, 5))\n",
    "sns.boxplot(x=df_dempty['distance_full']) \n",
    "plt.show()"
   ]
  },
  {
   "cell_type": "code",
   "execution_count": 386,
   "metadata": {},
   "outputs": [
    {
     "data": {
      "text/plain": [
       "{'distance_full': 1510}"
      ]
     },
     "execution_count": 386,
     "metadata": {},
     "output_type": "execute_result"
    }
   ],
   "source": [
    "#N° de outliers usando rango IQR\n",
    "outliers_dfull = {}\n",
    "\n",
    "Q1_dfull = np.percentile(df_dempty['distance_full'], 25)\n",
    "Q3_dfull = np.percentile(df_dempty['distance_full'], 75)\n",
    "IQR_dfull = Q3_dfull - Q1_dfull\n",
    "lim_inferior_dfull = Q1_dfull - 1.5 * IQR_dfull\n",
    "lim_superior_dfull = Q3_dfull + 1.5 * IQR_dfull\n",
    "outliers_dfull['distance_full'] = int((df_dempty['distance_full'] > lim_superior_dfull).sum() + (df_dempty['distance_full'] < lim_inferior_dfull).sum())\n",
    "\n",
    "outliers_dfull"
   ]
  },
  {
   "cell_type": "code",
   "execution_count": 387,
   "metadata": {},
   "outputs": [
    {
     "data": {
      "text/html": [
       "<div>\n",
       "<style scoped>\n",
       "    .dataframe tbody tr th:only-of-type {\n",
       "        vertical-align: middle;\n",
       "    }\n",
       "\n",
       "    .dataframe tbody tr th {\n",
       "        vertical-align: top;\n",
       "    }\n",
       "\n",
       "    .dataframe thead th {\n",
       "        text-align: right;\n",
       "    }\n",
       "</style>\n",
       "<table border=\"1\" class=\"dataframe\">\n",
       "  <thead>\n",
       "    <tr style=\"text-align: right;\">\n",
       "      <th></th>\n",
       "      <th>truck</th>\n",
       "      <th>loader</th>\n",
       "      <th>ton</th>\n",
       "      <th>n_shovel</th>\n",
       "      <th>truck_total_cycle</th>\n",
       "      <th>loader_total_cycle</th>\n",
       "      <th>distance_empty</th>\n",
       "      <th>distance_full</th>\n",
       "      <th>date</th>\n",
       "    </tr>\n",
       "  </thead>\n",
       "  <tbody>\n",
       "    <tr>\n",
       "      <th>202339</th>\n",
       "      <td>CAEX44</td>\n",
       "      <td>PH48</td>\n",
       "      <td>294.766217</td>\n",
       "      <td>3.0</td>\n",
       "      <td>3511.0</td>\n",
       "      <td>467.0</td>\n",
       "      <td>832.0</td>\n",
       "      <td>13862.0</td>\n",
       "      <td>2023-11-02</td>\n",
       "    </tr>\n",
       "    <tr>\n",
       "      <th>202146</th>\n",
       "      <td>CAEX07</td>\n",
       "      <td>PH48</td>\n",
       "      <td>316.137486</td>\n",
       "      <td>4.0</td>\n",
       "      <td>4012.0</td>\n",
       "      <td>434.0</td>\n",
       "      <td>6154.0</td>\n",
       "      <td>13863.0</td>\n",
       "      <td>2023-11-02</td>\n",
       "    </tr>\n",
       "    <tr>\n",
       "      <th>199756</th>\n",
       "      <td>CAEX31</td>\n",
       "      <td>PH58</td>\n",
       "      <td>318.685679</td>\n",
       "      <td>3.0</td>\n",
       "      <td>4849.0</td>\n",
       "      <td>374.0</td>\n",
       "      <td>13624.0</td>\n",
       "      <td>13863.0</td>\n",
       "      <td>2023-10-30</td>\n",
       "    </tr>\n",
       "    <tr>\n",
       "      <th>205097</th>\n",
       "      <td>CAEX93</td>\n",
       "      <td>PH48</td>\n",
       "      <td>328.253394</td>\n",
       "      <td>3.0</td>\n",
       "      <td>3167.0</td>\n",
       "      <td>419.0</td>\n",
       "      <td>6365.0</td>\n",
       "      <td>13863.0</td>\n",
       "      <td>2023-11-05</td>\n",
       "    </tr>\n",
       "    <tr>\n",
       "      <th>194554</th>\n",
       "      <td>CAEX73</td>\n",
       "      <td>PH58</td>\n",
       "      <td>282.360251</td>\n",
       "      <td>3.0</td>\n",
       "      <td>3277.0</td>\n",
       "      <td>251.0</td>\n",
       "      <td>1007.0</td>\n",
       "      <td>13864.0</td>\n",
       "      <td>2023-10-23</td>\n",
       "    </tr>\n",
       "    <tr>\n",
       "      <th>...</th>\n",
       "      <td>...</td>\n",
       "      <td>...</td>\n",
       "      <td>...</td>\n",
       "      <td>...</td>\n",
       "      <td>...</td>\n",
       "      <td>...</td>\n",
       "      <td>...</td>\n",
       "      <td>...</td>\n",
       "      <td>...</td>\n",
       "    </tr>\n",
       "    <tr>\n",
       "      <th>198388</th>\n",
       "      <td>CAEX81</td>\n",
       "      <td>PH58</td>\n",
       "      <td>324.417279</td>\n",
       "      <td>4.0</td>\n",
       "      <td>4543.0</td>\n",
       "      <td>409.0</td>\n",
       "      <td>8207.0</td>\n",
       "      <td>15623.0</td>\n",
       "      <td>2023-10-28</td>\n",
       "    </tr>\n",
       "    <tr>\n",
       "      <th>198798</th>\n",
       "      <td>CAEX87</td>\n",
       "      <td>PH58</td>\n",
       "      <td>330.738098</td>\n",
       "      <td>4.0</td>\n",
       "      <td>4391.0</td>\n",
       "      <td>345.0</td>\n",
       "      <td>7963.0</td>\n",
       "      <td>15627.0</td>\n",
       "      <td>2023-10-28</td>\n",
       "    </tr>\n",
       "    <tr>\n",
       "      <th>79607</th>\n",
       "      <td>CAEX22</td>\n",
       "      <td>PH48</td>\n",
       "      <td>354.095141</td>\n",
       "      <td>4.0</td>\n",
       "      <td>2048.0</td>\n",
       "      <td>469.0</td>\n",
       "      <td>11857.0</td>\n",
       "      <td>15637.0</td>\n",
       "      <td>2023-04-29</td>\n",
       "    </tr>\n",
       "    <tr>\n",
       "      <th>198886</th>\n",
       "      <td>CAEX60</td>\n",
       "      <td>PH58</td>\n",
       "      <td>334.263291</td>\n",
       "      <td>3.0</td>\n",
       "      <td>2352.0</td>\n",
       "      <td>299.0</td>\n",
       "      <td>8105.0</td>\n",
       "      <td>15680.0</td>\n",
       "      <td>2023-10-28</td>\n",
       "    </tr>\n",
       "    <tr>\n",
       "      <th>39926</th>\n",
       "      <td>CAEX37</td>\n",
       "      <td>PH58</td>\n",
       "      <td>324.982684</td>\n",
       "      <td>3.0</td>\n",
       "      <td>2026.0</td>\n",
       "      <td>377.0</td>\n",
       "      <td>5567.0</td>\n",
       "      <td>15691.0</td>\n",
       "      <td>2023-03-02</td>\n",
       "    </tr>\n",
       "  </tbody>\n",
       "</table>\n",
       "<p>1510 rows × 9 columns</p>\n",
       "</div>"
      ],
      "text/plain": [
       "         truck loader         ton  n_shovel  truck_total_cycle  \\\n",
       "202339  CAEX44   PH48  294.766217       3.0             3511.0   \n",
       "202146  CAEX07   PH48  316.137486       4.0             4012.0   \n",
       "199756  CAEX31   PH58  318.685679       3.0             4849.0   \n",
       "205097  CAEX93   PH48  328.253394       3.0             3167.0   \n",
       "194554  CAEX73   PH58  282.360251       3.0             3277.0   \n",
       "...        ...    ...         ...       ...                ...   \n",
       "198388  CAEX81   PH58  324.417279       4.0             4543.0   \n",
       "198798  CAEX87   PH58  330.738098       4.0             4391.0   \n",
       "79607   CAEX22   PH48  354.095141       4.0             2048.0   \n",
       "198886  CAEX60   PH58  334.263291       3.0             2352.0   \n",
       "39926   CAEX37   PH58  324.982684       3.0             2026.0   \n",
       "\n",
       "        loader_total_cycle  distance_empty  distance_full        date  \n",
       "202339               467.0           832.0        13862.0  2023-11-02  \n",
       "202146               434.0          6154.0        13863.0  2023-11-02  \n",
       "199756               374.0         13624.0        13863.0  2023-10-30  \n",
       "205097               419.0          6365.0        13863.0  2023-11-05  \n",
       "194554               251.0          1007.0        13864.0  2023-10-23  \n",
       "...                    ...             ...            ...         ...  \n",
       "198388               409.0          8207.0        15623.0  2023-10-28  \n",
       "198798               345.0          7963.0        15627.0  2023-10-28  \n",
       "79607                469.0         11857.0        15637.0  2023-04-29  \n",
       "198886               299.0          8105.0        15680.0  2023-10-28  \n",
       "39926                377.0          5567.0        15691.0  2023-03-02  \n",
       "\n",
       "[1510 rows x 9 columns]"
      ]
     },
     "execution_count": 387,
     "metadata": {},
     "output_type": "execute_result"
    }
   ],
   "source": [
    "#Vemos las filas que son consideradas outliers dada la distancia recorrida del camión lleno de menor a mayor\n",
    "ubicacion_outliers_dfull = (df_dempty['distance_full'] < lim_inferior_dfull) | (df_dempty['distance_full'] > lim_superior_dfull)\n",
    "df_dempty[ubicacion_outliers_dfull].sort_values('distance_full')"
   ]
  },
  {
   "cell_type": "code",
   "execution_count": 388,
   "metadata": {},
   "outputs": [
    {
     "data": {
      "text/html": [
       "<div>\n",
       "<style scoped>\n",
       "    .dataframe tbody tr th:only-of-type {\n",
       "        vertical-align: middle;\n",
       "    }\n",
       "\n",
       "    .dataframe tbody tr th {\n",
       "        vertical-align: top;\n",
       "    }\n",
       "\n",
       "    .dataframe thead th {\n",
       "        text-align: right;\n",
       "    }\n",
       "</style>\n",
       "<table border=\"1\" class=\"dataframe\">\n",
       "  <thead>\n",
       "    <tr style=\"text-align: right;\">\n",
       "      <th></th>\n",
       "      <th>truck</th>\n",
       "      <th>loader</th>\n",
       "      <th>ton</th>\n",
       "      <th>n_shovel</th>\n",
       "      <th>truck_total_cycle</th>\n",
       "      <th>loader_total_cycle</th>\n",
       "      <th>distance_empty</th>\n",
       "      <th>distance_full</th>\n",
       "      <th>date</th>\n",
       "    </tr>\n",
       "  </thead>\n",
       "  <tbody>\n",
       "    <tr>\n",
       "      <th>0</th>\n",
       "      <td>CAEX56</td>\n",
       "      <td>PH06</td>\n",
       "      <td>299.682208</td>\n",
       "      <td>3.0</td>\n",
       "      <td>2158.0</td>\n",
       "      <td>315.0</td>\n",
       "      <td>4975.0</td>\n",
       "      <td>5191.0</td>\n",
       "      <td>2023-01-01</td>\n",
       "    </tr>\n",
       "    <tr>\n",
       "      <th>1</th>\n",
       "      <td>CAEX64</td>\n",
       "      <td>PH48</td>\n",
       "      <td>316.673117</td>\n",
       "      <td>3.0</td>\n",
       "      <td>1737.0</td>\n",
       "      <td>353.0</td>\n",
       "      <td>5152.0</td>\n",
       "      <td>4960.0</td>\n",
       "      <td>2023-01-01</td>\n",
       "    </tr>\n",
       "    <tr>\n",
       "      <th>2</th>\n",
       "      <td>CAEX41</td>\n",
       "      <td>PH06</td>\n",
       "      <td>340.529701</td>\n",
       "      <td>3.0</td>\n",
       "      <td>2210.0</td>\n",
       "      <td>388.0</td>\n",
       "      <td>5042.0</td>\n",
       "      <td>4859.0</td>\n",
       "      <td>2023-01-01</td>\n",
       "    </tr>\n",
       "    <tr>\n",
       "      <th>3</th>\n",
       "      <td>CAEX41</td>\n",
       "      <td>PH06</td>\n",
       "      <td>292.835476</td>\n",
       "      <td>3.0</td>\n",
       "      <td>2073.0</td>\n",
       "      <td>260.0</td>\n",
       "      <td>5005.0</td>\n",
       "      <td>4869.0</td>\n",
       "      <td>2023-01-01</td>\n",
       "    </tr>\n",
       "    <tr>\n",
       "      <th>4</th>\n",
       "      <td>CAEX71</td>\n",
       "      <td>PH06</td>\n",
       "      <td>337.056639</td>\n",
       "      <td>3.0</td>\n",
       "      <td>2346.0</td>\n",
       "      <td>148.0</td>\n",
       "      <td>5614.0</td>\n",
       "      <td>5289.0</td>\n",
       "      <td>2023-01-01</td>\n",
       "    </tr>\n",
       "    <tr>\n",
       "      <th>...</th>\n",
       "      <td>...</td>\n",
       "      <td>...</td>\n",
       "      <td>...</td>\n",
       "      <td>...</td>\n",
       "      <td>...</td>\n",
       "      <td>...</td>\n",
       "      <td>...</td>\n",
       "      <td>...</td>\n",
       "      <td>...</td>\n",
       "    </tr>\n",
       "    <tr>\n",
       "      <th>385168</th>\n",
       "      <td>CAEX22</td>\n",
       "      <td>PH58</td>\n",
       "      <td>320.327729</td>\n",
       "      <td>3.0</td>\n",
       "      <td>1976.0</td>\n",
       "      <td>320.0</td>\n",
       "      <td>1671.0</td>\n",
       "      <td>4884.0</td>\n",
       "      <td>2024-05-24</td>\n",
       "    </tr>\n",
       "    <tr>\n",
       "      <th>385169</th>\n",
       "      <td>CAEX30</td>\n",
       "      <td>PH48</td>\n",
       "      <td>274.369483</td>\n",
       "      <td>4.0</td>\n",
       "      <td>1826.0</td>\n",
       "      <td>275.0</td>\n",
       "      <td>4021.0</td>\n",
       "      <td>5000.0</td>\n",
       "      <td>2024-05-24</td>\n",
       "    </tr>\n",
       "    <tr>\n",
       "      <th>385170</th>\n",
       "      <td>CAEX37</td>\n",
       "      <td>PH58</td>\n",
       "      <td>319.958519</td>\n",
       "      <td>3.0</td>\n",
       "      <td>1834.0</td>\n",
       "      <td>268.0</td>\n",
       "      <td>4630.0</td>\n",
       "      <td>4882.0</td>\n",
       "      <td>2024-05-24</td>\n",
       "    </tr>\n",
       "    <tr>\n",
       "      <th>385171</th>\n",
       "      <td>CAEX08</td>\n",
       "      <td>PH55</td>\n",
       "      <td>296.690314</td>\n",
       "      <td>3.0</td>\n",
       "      <td>1729.0</td>\n",
       "      <td>318.0</td>\n",
       "      <td>3925.0</td>\n",
       "      <td>3941.0</td>\n",
       "      <td>2024-05-24</td>\n",
       "    </tr>\n",
       "    <tr>\n",
       "      <th>385172</th>\n",
       "      <td>CAEX23</td>\n",
       "      <td>PH55</td>\n",
       "      <td>281.644303</td>\n",
       "      <td>3.0</td>\n",
       "      <td>1986.0</td>\n",
       "      <td>305.0</td>\n",
       "      <td>4097.0</td>\n",
       "      <td>4072.0</td>\n",
       "      <td>2024-05-24</td>\n",
       "    </tr>\n",
       "  </tbody>\n",
       "</table>\n",
       "<p>385173 rows × 9 columns</p>\n",
       "</div>"
      ],
      "text/plain": [
       "         truck loader         ton  n_shovel  truck_total_cycle  \\\n",
       "0       CAEX56   PH06  299.682208       3.0             2158.0   \n",
       "1       CAEX64   PH48  316.673117       3.0             1737.0   \n",
       "2       CAEX41   PH06  340.529701       3.0             2210.0   \n",
       "3       CAEX41   PH06  292.835476       3.0             2073.0   \n",
       "4       CAEX71   PH06  337.056639       3.0             2346.0   \n",
       "...        ...    ...         ...       ...                ...   \n",
       "385168  CAEX22   PH58  320.327729       3.0             1976.0   \n",
       "385169  CAEX30   PH48  274.369483       4.0             1826.0   \n",
       "385170  CAEX37   PH58  319.958519       3.0             1834.0   \n",
       "385171  CAEX08   PH55  296.690314       3.0             1729.0   \n",
       "385172  CAEX23   PH55  281.644303       3.0             1986.0   \n",
       "\n",
       "        loader_total_cycle  distance_empty  distance_full        date  \n",
       "0                    315.0          4975.0         5191.0  2023-01-01  \n",
       "1                    353.0          5152.0         4960.0  2023-01-01  \n",
       "2                    388.0          5042.0         4859.0  2023-01-01  \n",
       "3                    260.0          5005.0         4869.0  2023-01-01  \n",
       "4                    148.0          5614.0         5289.0  2023-01-01  \n",
       "...                    ...             ...            ...         ...  \n",
       "385168               320.0          1671.0         4884.0  2024-05-24  \n",
       "385169               275.0          4021.0         5000.0  2024-05-24  \n",
       "385170               268.0          4630.0         4882.0  2024-05-24  \n",
       "385171               318.0          3925.0         3941.0  2024-05-24  \n",
       "385172               305.0          4097.0         4072.0  2024-05-24  \n",
       "\n",
       "[385173 rows x 9 columns]"
      ]
     },
     "execution_count": 388,
     "metadata": {},
     "output_type": "execute_result"
    }
   ],
   "source": [
    "#reordenamos nuestro daataset sin los outliers anteriores\n",
    "df_sin_out_dfull = (df_dempty['distance_full'] >= lim_inferior_dfull) & (df_dempty['distance_full'] <= lim_superior_dfull)\n",
    "df_dfull = df_dempty[df_sin_out_dfull].reset_index(drop=True) \n",
    "df_dfull"
   ]
  },
  {
   "cell_type": "markdown",
   "metadata": {},
   "source": [
    "Ahora, analizamos la estadistica descriptiva y el boxplot actualizado"
   ]
  },
  {
   "cell_type": "code",
   "execution_count": 389,
   "metadata": {},
   "outputs": [
    {
     "data": {
      "text/plain": [
       "count    385173.000000\n",
       "mean       5742.353184\n",
       "std        2283.780978\n",
       "min         504.000000\n",
       "25%        3749.000000\n",
       "50%        5398.000000\n",
       "75%        7780.000000\n",
       "max       13860.000000\n",
       "Name: distance_full, dtype: float64"
      ]
     },
     "execution_count": 389,
     "metadata": {},
     "output_type": "execute_result"
    }
   ],
   "source": [
    "df_dfull['distance_full'].describe()"
   ]
  },
  {
   "cell_type": "code",
   "execution_count": 390,
   "metadata": {},
   "outputs": [
    {
     "data": {
      "image/png": "[encoded data removed]",
      "text/plain": [
       "<Figure size 1000x500 with 1 Axes>"
      ]
     },
     "metadata": {},
     "output_type": "display_data"
    }
   ],
   "source": [
    "#Graficamos un boxplot para observar los outliers\n",
    "plt.figure(figsize=(10, 5))\n",
    "sns.boxplot(x=df_dfull['distance_full']) \n",
    "plt.show()"
   ]
  },
  {
   "cell_type": "markdown",
   "metadata": {},
   "source": [
    "De esto, podemos ver el valor mínimo sigue siendo 504 pero el máximo paso de 15690 a 13860 metros, pero nuestro boxplot no presenta los valores átpicios que se tenían en un principio, solo algunos datos en el extremo superior.\n",
    "\n",
    "Aceptaremos estos valores, considerando que es posible que hayan casos en que las rutas sean bastante más cortas en comparados a otros y casos muy altos donde se pueda ver el efecto de una mala optimización de ruta y/o problemas que se puedan haber generado en el transporte."
   ]
  },
  {
   "cell_type": "markdown",
   "metadata": {},
   "source": [
    "## 4.2. Transformación de datos"
   ]
  },
  {
   "cell_type": "code",
   "execution_count": 391,
   "metadata": {},
   "outputs": [
    {
     "data": {
      "text/html": [
       "<div>\n",
       "<style scoped>\n",
       "    .dataframe tbody tr th:only-of-type {\n",
       "        vertical-align: middle;\n",
       "    }\n",
       "\n",
       "    .dataframe tbody tr th {\n",
       "        vertical-align: top;\n",
       "    }\n",
       "\n",
       "    .dataframe thead th {\n",
       "        text-align: right;\n",
       "    }\n",
       "</style>\n",
       "<table border=\"1\" class=\"dataframe\">\n",
       "  <thead>\n",
       "    <tr style=\"text-align: right;\">\n",
       "      <th></th>\n",
       "      <th>truck</th>\n",
       "      <th>loader</th>\n",
       "      <th>ton</th>\n",
       "      <th>n_shovel</th>\n",
       "      <th>truck_total_cycle</th>\n",
       "      <th>loader_total_cycle</th>\n",
       "      <th>distance_empty</th>\n",
       "      <th>distance_full</th>\n",
       "      <th>date</th>\n",
       "    </tr>\n",
       "  </thead>\n",
       "  <tbody>\n",
       "    <tr>\n",
       "      <th>0</th>\n",
       "      <td>CAEX56</td>\n",
       "      <td>PH06</td>\n",
       "      <td>299.682208</td>\n",
       "      <td>3.0</td>\n",
       "      <td>2158.0</td>\n",
       "      <td>315.0</td>\n",
       "      <td>4975.0</td>\n",
       "      <td>5191.0</td>\n",
       "      <td>2023-01-01</td>\n",
       "    </tr>\n",
       "    <tr>\n",
       "      <th>1</th>\n",
       "      <td>CAEX64</td>\n",
       "      <td>PH48</td>\n",
       "      <td>316.673117</td>\n",
       "      <td>3.0</td>\n",
       "      <td>1737.0</td>\n",
       "      <td>353.0</td>\n",
       "      <td>5152.0</td>\n",
       "      <td>4960.0</td>\n",
       "      <td>2023-01-01</td>\n",
       "    </tr>\n",
       "    <tr>\n",
       "      <th>2</th>\n",
       "      <td>CAEX41</td>\n",
       "      <td>PH06</td>\n",
       "      <td>340.529701</td>\n",
       "      <td>3.0</td>\n",
       "      <td>2210.0</td>\n",
       "      <td>388.0</td>\n",
       "      <td>5042.0</td>\n",
       "      <td>4859.0</td>\n",
       "      <td>2023-01-01</td>\n",
       "    </tr>\n",
       "  </tbody>\n",
       "</table>\n",
       "</div>"
      ],
      "text/plain": [
       "    truck loader         ton  n_shovel  truck_total_cycle  loader_total_cycle  \\\n",
       "0  CAEX56   PH06  299.682208       3.0             2158.0               315.0   \n",
       "1  CAEX64   PH48  316.673117       3.0             1737.0               353.0   \n",
       "2  CAEX41   PH06  340.529701       3.0             2210.0               388.0   \n",
       "\n",
       "   distance_empty  distance_full        date  \n",
       "0          4975.0         5191.0  2023-01-01  \n",
       "1          5152.0         4960.0  2023-01-01  \n",
       "2          5042.0         4859.0  2023-01-01  "
      ]
     },
     "execution_count": 391,
     "metadata": {},
     "output_type": "execute_result"
    }
   ],
   "source": [
    "df_dfull.head(3)"
   ]
  },
  {
   "cell_type": "code",
   "execution_count": 392,
   "metadata": {},
   "outputs": [],
   "source": [
    "df_final = df_dfull.copy()"
   ]
  },
  {
   "cell_type": "code",
   "execution_count": 393,
   "metadata": {},
   "outputs": [
    {
     "data": {
      "text/html": [
       "<div>\n",
       "<style scoped>\n",
       "    .dataframe tbody tr th:only-of-type {\n",
       "        vertical-align: middle;\n",
       "    }\n",
       "\n",
       "    .dataframe tbody tr th {\n",
       "        vertical-align: top;\n",
       "    }\n",
       "\n",
       "    .dataframe thead th {\n",
       "        text-align: right;\n",
       "    }\n",
       "</style>\n",
       "<table border=\"1\" class=\"dataframe\">\n",
       "  <thead>\n",
       "    <tr style=\"text-align: right;\">\n",
       "      <th></th>\n",
       "      <th>truck</th>\n",
       "      <th>loader</th>\n",
       "      <th>ton</th>\n",
       "      <th>n_shovel</th>\n",
       "      <th>truck_total_cycle</th>\n",
       "      <th>loader_total_cycle</th>\n",
       "      <th>distance_empty</th>\n",
       "      <th>distance_full</th>\n",
       "      <th>date</th>\n",
       "    </tr>\n",
       "  </thead>\n",
       "  <tbody>\n",
       "    <tr>\n",
       "      <th>0</th>\n",
       "      <td>CAEX56</td>\n",
       "      <td>PH06</td>\n",
       "      <td>299.682208</td>\n",
       "      <td>3.0</td>\n",
       "      <td>2158.0</td>\n",
       "      <td>315.0</td>\n",
       "      <td>4975.0</td>\n",
       "      <td>5191.0</td>\n",
       "      <td>2023-01-01</td>\n",
       "    </tr>\n",
       "    <tr>\n",
       "      <th>1</th>\n",
       "      <td>CAEX64</td>\n",
       "      <td>PH48</td>\n",
       "      <td>316.673117</td>\n",
       "      <td>3.0</td>\n",
       "      <td>1737.0</td>\n",
       "      <td>353.0</td>\n",
       "      <td>5152.0</td>\n",
       "      <td>4960.0</td>\n",
       "      <td>2023-01-01</td>\n",
       "    </tr>\n",
       "    <tr>\n",
       "      <th>2</th>\n",
       "      <td>CAEX41</td>\n",
       "      <td>PH06</td>\n",
       "      <td>340.529701</td>\n",
       "      <td>3.0</td>\n",
       "      <td>2210.0</td>\n",
       "      <td>388.0</td>\n",
       "      <td>5042.0</td>\n",
       "      <td>4859.0</td>\n",
       "      <td>2023-01-01</td>\n",
       "    </tr>\n",
       "  </tbody>\n",
       "</table>\n",
       "</div>"
      ],
      "text/plain": [
       "    truck loader         ton  n_shovel  truck_total_cycle  loader_total_cycle  \\\n",
       "0  CAEX56   PH06  299.682208       3.0             2158.0               315.0   \n",
       "1  CAEX64   PH48  316.673117       3.0             1737.0               353.0   \n",
       "2  CAEX41   PH06  340.529701       3.0             2210.0               388.0   \n",
       "\n",
       "   distance_empty  distance_full        date  \n",
       "0          4975.0         5191.0  2023-01-01  \n",
       "1          5152.0         4960.0  2023-01-01  \n",
       "2          5042.0         4859.0  2023-01-01  "
      ]
     },
     "execution_count": 393,
     "metadata": {},
     "output_type": "execute_result"
    }
   ],
   "source": [
    "df_final.head(3)"
   ]
  },
  {
   "cell_type": "code",
   "execution_count": 394,
   "metadata": {},
   "outputs": [
    {
     "name": "stdout",
     "output_type": "stream",
     "text": [
      "datetime64[ns]\n",
      "int64\n"
     ]
    }
   ],
   "source": [
    "#Cambiamos los tipos de datos para, numero de paladas (deben ser enteras) y date a tipo fecha\n",
    "df_final['date'] = pd.to_datetime(df_final['date'])\n",
    "df_final['n_shovel'] = df_final['n_shovel'].astype(int)\n",
    "print(df_final['date'].dtypes)\n",
    "print(df_final['n_shovel'].dtypes)"
   ]
  },
  {
   "cell_type": "code",
   "execution_count": 395,
   "metadata": {},
   "outputs": [],
   "source": [
    "#Creamos columnas de rendimiento para los camiones y las palas\n",
    "df_final['ton_paladas'] = df_final['ton']/df_final['n_shovel'] #Toneladas por paladas\n",
    "df_final['relacion_carga_transporte'] = df_final['truck_total_cycle']/df_final['loader_total_cycle']\n"
   ]
  },
  {
   "cell_type": "code",
   "execution_count": 396,
   "metadata": {},
   "outputs": [
    {
     "data": {
      "text/plain": [
       "Index(['truck', 'loader', 'ton', 'n_shovel', 'truck_total_cycle',\n",
       "       'loader_total_cycle', 'distance_empty', 'distance_full', 'date',\n",
       "       'ton_paladas', 'relacion_carga_transporte'],\n",
       "      dtype='object')"
      ]
     },
     "execution_count": 396,
     "metadata": {},
     "output_type": "execute_result"
    }
   ],
   "source": [
    "df_final.columns"
   ]
  },
  {
   "cell_type": "markdown",
   "metadata": {},
   "source": [
    "# 5. Carga de datos"
   ]
  },
  {
   "cell_type": "code",
   "execution_count": 397,
   "metadata": {},
   "outputs": [],
   "source": [
    "df_final.to_csv('df_final.csv', index = False)"
   ]
  },
  {
   "cell_type": "code",
   "execution_count": 398,
   "metadata": {},
   "outputs": [
    {
     "name": "stdout",
     "output_type": "stream",
     "text": [
      "<class 'pandas.core.frame.DataFrame'>\n",
      "RangeIndex: 385173 entries, 0 to 385172\n",
      "Data columns (total 11 columns):\n",
      " #   Column                     Non-Null Count   Dtype         \n",
      "---  ------                     --------------   -----         \n",
      " 0   truck                      385173 non-null  object        \n",
      " 1   loader                     385173 non-null  object        \n",
      " 2   ton                        385173 non-null  float64       \n",
      " 3   n_shovel                   385173 non-null  int64         \n",
      " 4   truck_total_cycle          385173 non-null  float64       \n",
      " 5   loader_total_cycle         385173 non-null  float64       \n",
      " 6   distance_empty             385173 non-null  float64       \n",
      " 7   distance_full              385173 non-null  float64       \n",
      " 8   date                       385173 non-null  datetime64[ns]\n",
      " 9   ton_paladas                385173 non-null  float64       \n",
      " 10  relacion_carga_transporte  385173 non-null  float64       \n",
      "dtypes: datetime64[ns](1), float64(7), int64(1), object(2)\n",
      "memory usage: 32.3+ MB\n"
     ]
    }
   ],
   "source": [
    "df_final.info()"
   ]
  }
 ],
 "metadata": {
  "kernelspec": {
   "display_name": "Python 3",
   "language": "python",
   "name": "python3"
  },
  "language_info": {
   "codemirror_mode": {
    "name": "ipython",
    "version": 3
   },
   "file_extension": ".py",
   "mimetype": "text/x-python",
   "name": "python",
   "nbconvert_exporter": "python",
   "pygments_lexer": "ipython3",
   "version": "3.12.6"
  }
 },
 "nbformat": 4,
 "nbformat_minor": 2
}
